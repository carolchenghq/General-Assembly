{
 "cells": [
  {
   "cell_type": "markdown",
   "metadata": {},
   "source": [
    "## Load the Data"
   ]
  },
  {
   "cell_type": "code",
   "execution_count": 1,
   "metadata": {},
   "outputs": [
    {
     "data": {
      "text/html": [
       "<div>\n",
       "<style scoped>\n",
       "    .dataframe tbody tr th:only-of-type {\n",
       "        vertical-align: middle;\n",
       "    }\n",
       "\n",
       "    .dataframe tbody tr th {\n",
       "        vertical-align: top;\n",
       "    }\n",
       "\n",
       "    .dataframe thead th {\n",
       "        text-align: right;\n",
       "    }\n",
       "</style>\n",
       "<table border=\"1\" class=\"dataframe\">\n",
       "  <thead>\n",
       "    <tr style=\"text-align: right;\">\n",
       "      <th></th>\n",
       "      <th>age</th>\n",
       "      <th>job</th>\n",
       "      <th>marital</th>\n",
       "      <th>education</th>\n",
       "      <th>credit_default</th>\n",
       "      <th>housing_loan</th>\n",
       "      <th>personal_loan</th>\n",
       "      <th>contact</th>\n",
       "      <th>last_contact_month</th>\n",
       "      <th>last_contact_day</th>\n",
       "      <th>...</th>\n",
       "      <th>campaign_contact_times</th>\n",
       "      <th>days_from_last_contact</th>\n",
       "      <th>previous_campaign_contact</th>\n",
       "      <th>previous_campaign_outcome</th>\n",
       "      <th>employment_variation_rate</th>\n",
       "      <th>consumer_price_index</th>\n",
       "      <th>consumer_confidence_index</th>\n",
       "      <th>euribor_3m_rate</th>\n",
       "      <th>num_of_employees</th>\n",
       "      <th>y</th>\n",
       "    </tr>\n",
       "  </thead>\n",
       "  <tbody>\n",
       "    <tr>\n",
       "      <th>0</th>\n",
       "      <td>56</td>\n",
       "      <td>housemaid</td>\n",
       "      <td>married</td>\n",
       "      <td>basic.4y</td>\n",
       "      <td>no</td>\n",
       "      <td>0</td>\n",
       "      <td>0</td>\n",
       "      <td>telephone</td>\n",
       "      <td>may</td>\n",
       "      <td>mon</td>\n",
       "      <td>...</td>\n",
       "      <td>1</td>\n",
       "      <td>999</td>\n",
       "      <td>0</td>\n",
       "      <td>nonexistent</td>\n",
       "      <td>1.1</td>\n",
       "      <td>93.994</td>\n",
       "      <td>-36.4</td>\n",
       "      <td>4.857</td>\n",
       "      <td>5191.0</td>\n",
       "      <td>0</td>\n",
       "    </tr>\n",
       "    <tr>\n",
       "      <th>1</th>\n",
       "      <td>57</td>\n",
       "      <td>services</td>\n",
       "      <td>married</td>\n",
       "      <td>high.school</td>\n",
       "      <td>unknown</td>\n",
       "      <td>0</td>\n",
       "      <td>0</td>\n",
       "      <td>telephone</td>\n",
       "      <td>may</td>\n",
       "      <td>mon</td>\n",
       "      <td>...</td>\n",
       "      <td>1</td>\n",
       "      <td>999</td>\n",
       "      <td>0</td>\n",
       "      <td>nonexistent</td>\n",
       "      <td>1.1</td>\n",
       "      <td>93.994</td>\n",
       "      <td>-36.4</td>\n",
       "      <td>4.857</td>\n",
       "      <td>5191.0</td>\n",
       "      <td>0</td>\n",
       "    </tr>\n",
       "    <tr>\n",
       "      <th>2</th>\n",
       "      <td>37</td>\n",
       "      <td>services</td>\n",
       "      <td>married</td>\n",
       "      <td>high.school</td>\n",
       "      <td>no</td>\n",
       "      <td>1</td>\n",
       "      <td>0</td>\n",
       "      <td>telephone</td>\n",
       "      <td>may</td>\n",
       "      <td>mon</td>\n",
       "      <td>...</td>\n",
       "      <td>1</td>\n",
       "      <td>999</td>\n",
       "      <td>0</td>\n",
       "      <td>nonexistent</td>\n",
       "      <td>1.1</td>\n",
       "      <td>93.994</td>\n",
       "      <td>-36.4</td>\n",
       "      <td>4.857</td>\n",
       "      <td>5191.0</td>\n",
       "      <td>0</td>\n",
       "    </tr>\n",
       "  </tbody>\n",
       "</table>\n",
       "<p>3 rows × 21 columns</p>\n",
       "</div>"
      ],
      "text/plain": [
       "   age        job  marital    education credit_default  housing_loan  \\\n",
       "0   56  housemaid  married     basic.4y             no             0   \n",
       "1   57   services  married  high.school        unknown             0   \n",
       "2   37   services  married  high.school             no             1   \n",
       "\n",
       "   personal_loan    contact last_contact_month last_contact_day  ...  \\\n",
       "0              0  telephone                may              mon  ...   \n",
       "1              0  telephone                may              mon  ...   \n",
       "2              0  telephone                may              mon  ...   \n",
       "\n",
       "   campaign_contact_times  days_from_last_contact  previous_campaign_contact  \\\n",
       "0                       1                     999                          0   \n",
       "1                       1                     999                          0   \n",
       "2                       1                     999                          0   \n",
       "\n",
       "   previous_campaign_outcome employment_variation_rate  consumer_price_index  \\\n",
       "0                nonexistent                       1.1                93.994   \n",
       "1                nonexistent                       1.1                93.994   \n",
       "2                nonexistent                       1.1                93.994   \n",
       "\n",
       "   consumer_confidence_index  euribor_3m_rate  num_of_employees  y  \n",
       "0                      -36.4            4.857            5191.0  0  \n",
       "1                      -36.4            4.857            5191.0  0  \n",
       "2                      -36.4            4.857            5191.0  0  \n",
       "\n",
       "[3 rows x 21 columns]"
      ]
     },
     "execution_count": 1,
     "metadata": {},
     "output_type": "execute_result"
    }
   ],
   "source": [
    "import numpy as np\n",
    "import pandas as pd\n",
    "\n",
    "# Load the cleaned data from csv file\n",
    "df_bank = pd.read_csv('./data_cleaned.csv', index_col=0)\n",
    "df_bank.head(3)"
   ]
  },
  {
   "cell_type": "code",
   "execution_count": 2,
   "metadata": {},
   "outputs": [
    {
     "data": {
      "text/plain": [
       "(40098, 21)"
      ]
     },
     "execution_count": 2,
     "metadata": {},
     "output_type": "execute_result"
    }
   ],
   "source": [
    "df_bank.shape"
   ]
  },
  {
   "cell_type": "code",
   "execution_count": 3,
   "metadata": {},
   "outputs": [
    {
     "name": "stdout",
     "output_type": "stream",
     "text": [
      "<class 'pandas.core.frame.DataFrame'>\n",
      "Int64Index: 40098 entries, 0 to 41187\n",
      "Data columns (total 21 columns):\n",
      " #   Column                     Non-Null Count  Dtype  \n",
      "---  ------                     --------------  -----  \n",
      " 0   age                        40098 non-null  int64  \n",
      " 1   job                        40098 non-null  object \n",
      " 2   marital                    40098 non-null  object \n",
      " 3   education                  40098 non-null  object \n",
      " 4   credit_default             40098 non-null  object \n",
      " 5   housing_loan               40098 non-null  int64  \n",
      " 6   personal_loan              40098 non-null  int64  \n",
      " 7   contact                    40098 non-null  object \n",
      " 8   last_contact_month         40098 non-null  object \n",
      " 9   last_contact_day           40098 non-null  object \n",
      " 10  last_contact_duration      40098 non-null  int64  \n",
      " 11  campaign_contact_times     40098 non-null  int64  \n",
      " 12  days_from_last_contact     40098 non-null  int64  \n",
      " 13  previous_campaign_contact  40098 non-null  int64  \n",
      " 14  previous_campaign_outcome  40098 non-null  object \n",
      " 15  employment_variation_rate  40098 non-null  float64\n",
      " 16  consumer_price_index       40098 non-null  float64\n",
      " 17  consumer_confidence_index  40098 non-null  float64\n",
      " 18  euribor_3m_rate            40098 non-null  float64\n",
      " 19  num_of_employees           40098 non-null  float64\n",
      " 20  y                          40098 non-null  int64  \n",
      "dtypes: float64(5), int64(8), object(8)\n",
      "memory usage: 6.7+ MB\n"
     ]
    }
   ],
   "source": [
    "df_bank.info()"
   ]
  },
  {
   "cell_type": "markdown",
   "metadata": {},
   "source": [
    "## Data Preprocessing"
   ]
  },
  {
   "cell_type": "markdown",
   "metadata": {},
   "source": [
    "### 1. Encoding categorical features"
   ]
  },
  {
   "cell_type": "code",
   "execution_count": 4,
   "metadata": {},
   "outputs": [],
   "source": [
    "# Before any further processing, firstly I need to dummy code all categorical columns to make them into features that \n",
    "# only contain numerical binary values. This is to make sure the data can be used for machine learning models later."
   ]
  },
  {
   "cell_type": "code",
   "execution_count": 5,
   "metadata": {},
   "outputs": [],
   "source": [
    "# Four different ways of encoding categorical features:\n",
    "# - LabelEncoder \n",
    "# - OneHotEncoder\n",
    "# - DictVectorizer\n",
    "# - Pandas get_dummies\n",
    "\n",
    "# - LabelEncoder outputs a dataframe type. However if the categorical feature is multi class, LabelEncoder will return \n",
    "#   different values for different classes. This can lead to poor performance in modeling.\n",
    "# - OneHotEncoder outputs a numpy array. For each class under a categorical feature, a new column is created for it.\n",
    "# - DictVectorizer is a one step method to encode and support sparse matrix output. But the input need to be converted\n",
    "#   to a dictionary first, and the final output is a numpy array. If the number of categorical features are huge, \n",
    "#   DictVectorizer will be a good choice as it supports sparse matrix output\n",
    "# - Pandas get dummies method is a straight forward and easy way to encode categorical features. The output will \n",
    "#   remain dataframe type."
   ]
  },
  {
   "cell_type": "code",
   "execution_count": 6,
   "metadata": {},
   "outputs": [
    {
     "data": {
      "text/plain": [
       "(40098, 57)"
      ]
     },
     "execution_count": 6,
     "metadata": {},
     "output_type": "execute_result"
    }
   ],
   "source": [
    "# I will use pandas get dummies to encode the categorical features as it is much straitforward than other ways. And \n",
    "# the output remains dataframe type make it easier to check what features I have got after encoding.\n",
    "\n",
    "# Create a list for object type columns\n",
    "categorical_columns = df_bank.columns[df_bank.dtypes==object].tolist()\n",
    "\n",
    "# Write a for loop to convert categorical columns to dummy coded columns, and then attach the dummies to the dataset\n",
    "df_bank_encoded=df_bank\n",
    "for col in categorical_columns:\n",
    "    col_dummy = pd.get_dummies(df_bank[col], prefix=col)\n",
    "    df_bank_encoded = pd.concat([df_bank_encoded, col_dummy], axis=1)\n",
    "\n",
    "# Drop the original object type columns from the dataframe\n",
    "for col in categorical_columns:\n",
    "    df_bank_encoded.drop(col, axis=1, inplace=True)\n",
    "\n",
    "# Check the structure of the dataframe after encoding\n",
    "df_bank_encoded.shape"
   ]
  },
  {
   "cell_type": "markdown",
   "metadata": {},
   "source": [
    "### 2. Standardization"
   ]
  },
  {
   "cell_type": "code",
   "execution_count": 7,
   "metadata": {},
   "outputs": [],
   "source": [
    "# Define a function to standardize the continuous data\n",
    "\n",
    "from sklearn.preprocessing import StandardScaler\n",
    "\n",
    "def stad_scaler(df):\n",
    "\n",
    "    # Firstly, define a list of columns that only contains the continuous numerical columns that I would like to \n",
    "    # standardize, and a list of binary columns that I want to avoid standardizing.\n",
    "    continuous_cols = df.columns[df.nunique()>2].tolist()   \n",
    "    binary_cols= df.columns[df.nunique()<3].tolist()\n",
    "    binary_cols.remove('y')\n",
    "    \n",
    "    # Initialize the StandardScaler\n",
    "    ss = StandardScaler()\n",
    "    \n",
    "    # Fit and transform the continuous columns\n",
    "    X_scaled = pd.DataFrame(ss.fit_transform(df[continuous_cols]), columns=continuous_cols, index=df.index)\n",
    "    X_not_scaled= df[binary_cols]\n",
    "    \n",
    "    # Combine the scaled dataframe and the unscaled one\n",
    "    X_stad = pd.concat([X_scaled, X_not_scaled], axis=1)\n",
    "    \n",
    "    return X_stad\n"
   ]
  },
  {
   "cell_type": "markdown",
   "metadata": {},
   "source": [
    "### 3. Define target y and variables X"
   ]
  },
  {
   "cell_type": "code",
   "execution_count": 8,
   "metadata": {},
   "outputs": [],
   "source": [
    "# X, y without Standardization\n",
    "\n",
    "y = df_bank_encoded['y'].values # The target is the 'y' column\n",
    "X = df_bank_encoded.drop('y', axis=1) # The variables X"
   ]
  },
  {
   "cell_type": "code",
   "execution_count": 9,
   "metadata": {},
   "outputs": [],
   "source": [
    "# X, y with Standardization\n",
    "\n",
    "y = df_bank_encoded['y'].values # The target is the 'y' column\n",
    "X_stad = stad_scaler(df_bank_encoded) # The standardized variables X"
   ]
  },
  {
   "cell_type": "markdown",
   "metadata": {},
   "source": [
    "### 4. Split the data into training set and testing set with stratified"
   ]
  },
  {
   "cell_type": "code",
   "execution_count": 10,
   "metadata": {},
   "outputs": [],
   "source": [
    "from sklearn.model_selection import train_test_split"
   ]
  },
  {
   "cell_type": "code",
   "execution_count": 11,
   "metadata": {},
   "outputs": [],
   "source": [
    "# train test split for the data without standardization\n",
    "X_train, X_test, y_train, y_test = train_test_split(X, y, train_size=0.75, test_size=0.25, random_state=42,stratify=y)"
   ]
  },
  {
   "cell_type": "code",
   "execution_count": 12,
   "metadata": {},
   "outputs": [],
   "source": [
    "# train test split for the data with standardization\n",
    "Xs_train, Xs_test, ys_train, ys_test = train_test_split(X_stad, y, train_size=0.75, test_size=0.25, \n",
    "                                                        random_state=42, stratify=y)"
   ]
  },
  {
   "cell_type": "markdown",
   "metadata": {},
   "source": [
    "### 5. Over-sampling for imbalance data"
   ]
  },
  {
   "cell_type": "code",
   "execution_count": 13,
   "metadata": {},
   "outputs": [],
   "source": [
    "# As the data is imbalanced (11% of 'yes' and 89% of 'no' in the target 'y'), I would use Oversampling techniques to \n",
    "# preprocess the data for training the machine learning models purpose.\n",
    "\n",
    "from imblearn.over_sampling import SMOTE, ADASYN"
   ]
  },
  {
   "cell_type": "code",
   "execution_count": 14,
   "metadata": {},
   "outputs": [],
   "source": [
    "# SMOTE\n",
    "X_train_smote, y_train_smote = SMOTE().fit_resample(X_train, y_train)\n",
    "\n",
    "# ADASYN\n",
    "X_train_adasyn, y_train_adasyn = ADASYN().fit_resample(X_train, y_train)"
   ]
  },
  {
   "cell_type": "code",
   "execution_count": 15,
   "metadata": {},
   "outputs": [],
   "source": [
    "# SMOTE with standardized data\n",
    "Xs_train_smote, ys_train_smote = SMOTE().fit_resample(Xs_train, ys_train)\n",
    "\n",
    "# ADASYN with standardized data\n",
    "Xs_train_adasyn, ys_train_adasyn = ADASYN().fit_resample(Xs_train, ys_train)"
   ]
  },
  {
   "cell_type": "markdown",
   "metadata": {},
   "source": [
    "## Machine Learning Models"
   ]
  },
  {
   "cell_type": "markdown",
   "metadata": {},
   "source": [
    "##### The Following machine learning models will be used to classify the target\n",
    "- K-Nearest Neighbors\n",
    "- Logistic Regression\n",
    "- Support Vector Machine\n",
    "- Decision Tree\n",
    "- RandomForestClassifier\n",
    "- GradientBoostingClassifier\n",
    "- AdaBoostClassifier\n",
    "- VotingClassifier(Hard Voting/Soft Voting)"
   ]
  },
  {
   "cell_type": "markdown",
   "metadata": {},
   "source": [
    "### 1. Overview of Metrics"
   ]
  },
  {
   "cell_type": "markdown",
   "metadata": {},
   "source": [
    "#### 1.1 Baseline Accuracy\n",
    "Firstly calculate the baseline accuracy of the classification"
   ]
  },
  {
   "cell_type": "code",
   "execution_count": 16,
   "metadata": {},
   "outputs": [
    {
     "name": "stdout",
     "output_type": "stream",
     "text": [
      "The Baseline Accuracy: 88.74%\n"
     ]
    }
   ],
   "source": [
    "# Baseline accuracy = majority_class_n / total_n\n",
    "baseline_accuracy = '{0:.2f}%'.format(len(df_bank_encoded[df_bank_encoded['y']==0]) / len(df_bank_encoded['y']) *100)\n",
    "print('The Baseline Accuracy:', baseline_accuracy)"
   ]
  },
  {
   "cell_type": "markdown",
   "metadata": {},
   "source": [
    "#### 1.2 Metrics that matter for the classification of this dataset\n",
    "- Maximize the recall/True Positive Rate (find out as many as the clients that will actually subscribe the product)\n",
    "- Lower False Positive Rate or Higher Precision\n",
    "- If we want to create a balanced classification model with the optimal balance of recall and precision, then we try to maximize the F1 score\n",
    "- ROC and AUC (higher number indicating better classification performance)"
   ]
  },
  {
   "cell_type": "markdown",
   "metadata": {},
   "source": [
    "### 2. Overview of base models"
   ]
  },
  {
   "cell_type": "code",
   "execution_count": 17,
   "metadata": {},
   "outputs": [],
   "source": [
    "from sklearn.neighbors import KNeighborsClassifier\n",
    "from sklearn.linear_model import LogisticRegression\n",
    "from sklearn import svm\n",
    "from sklearn.tree import DecisionTreeClassifier\n",
    "from sklearn.ensemble import RandomForestClassifier, GradientBoostingClassifier, AdaBoostClassifier\n",
    "\n",
    "from sklearn.model_selection import StratifiedKFold, cross_val_score\n",
    "from sklearn.metrics import accuracy_score\n",
    "from sklearn.metrics import roc_auc_score\n",
    "from sklearn.metrics import classification_report\n",
    "\n",
    "from sklearn.pipeline import make_pipeline\n"
   ]
  },
  {
   "cell_type": "code",
   "execution_count": 18,
   "metadata": {},
   "outputs": [
    {
     "name": "stdout",
     "output_type": "stream",
     "text": [
      "Base KNN accuracy: 0.9056359102244389\n",
      "Base KNN AUC: 0.7283644463968241\n",
      "--------------------------------------------------\n",
      "Base LogisticRegression accuracy: 0.912718204488778\n",
      "Base LogisticRegression AUC: 0.707608459291026\n",
      "--------------------------------------------------\n",
      "Base SVM accuracy: 0.8692269326683292\n",
      "Base SVM AUC: 0.7151962387131924\n",
      "--------------------------------------------------\n",
      "Base DecisionTree accuracy: 0.8869825436408978\n",
      "Base DecisionTree AUC: 0.7321607008016262\n",
      "--------------------------------------------------\n",
      "Base RandomForest accuracy: 0.9144139650872818\n",
      "Base RandomForest AUC: 0.7271238533973529\n",
      "--------------------------------------------------\n",
      "Base GradientBoosting accuracy: 0.9163092269326684\n",
      "Base GradientBoosting AUC: 0.7339917204854364\n",
      "--------------------------------------------------\n",
      "Base AdaBoost accuracy: 0.9154114713216958\n",
      "Base AdaBoost AUC: 0.7098993247828663\n"
     ]
    }
   ],
   "source": [
    "# KNN\n",
    "Base_knn = KNeighborsClassifier()\n",
    "Base_knn.fit(X_train, y_train)\n",
    "pred_knn = Base_knn.predict(X_test)\n",
    "print('Base KNN accuracy:', accuracy_score(y_test, pred_knn))\n",
    "print('Base KNN AUC:', roc_auc_score(y_test, pred_knn))\n",
    "print('--------------------------------------------------')\n",
    "\n",
    "# LogisticRegression\n",
    "Base_lr = LogisticRegression(max_iter=2000)\n",
    "Base_lr.fit(X_train, y_train)\n",
    "pred_lr = Base_lr.predict(X_test)\n",
    "print('Base LogisticRegression accuracy:', accuracy_score(y_test, pred_lr))\n",
    "print('Base LogisticRegression AUC:', roc_auc_score(y_test, pred_lr))\n",
    "print('--------------------------------------------------')\n",
    "\n",
    "# SVM\n",
    "Base_svm = svm.SVC(kernel='linear')\n",
    "Base_svm.fit(X_train, y_train)\n",
    "pred_svm = Base_svm.predict(X_test)\n",
    "print('Base SVM accuracy:', accuracy_score(y_test, pred_svm))\n",
    "print('Base SVM AUC:', roc_auc_score(y_test, pred_svm))\n",
    "print('--------------------------------------------------')\n",
    "\n",
    "# DecisionTree\n",
    "Base_dt = DecisionTreeClassifier()\n",
    "Base_dt.fit(X_train, y_train)\n",
    "pred_dt = Base_dt.predict(X_test)\n",
    "print('Base DecisionTree accuracy:', accuracy_score(y_test, pred_dt))\n",
    "print('Base DecisionTree AUC:', roc_auc_score(y_test, pred_dt))\n",
    "print('--------------------------------------------------')\n",
    "\n",
    "# RandomForest\n",
    "Base_rf = RandomForestClassifier()\n",
    "Base_rf.fit(X_train, y_train\n",
    "pred_rf = Base_rf.predict(X_test)\n",
    "print('Base RandomForest accuracy:', accuracy_score(y_test, pred_rf))\n",
    "print('Base RandomForest AUC:', roc_auc_score(y_test, pred_rf))\n",
    "print('--------------------------------------------------')\n",
    "\n",
    "# GradientBoostingClassifier\n",
    "Base_gbc = GradientBoostingClassifier(n_estimators=100, learning_rate=1.0, max_depth=1, random_state=0)\n",
    "Base_gbc.fit(X_train, y_train)\n",
    "pred_gbc = Base_gbc.predict(X_test)\n",
    "print('Base GradientBoosting accuracy:', accuracy_score(y_test, pred_gbc))\n",
    "print('Base GradientBoosting AUC:', roc_auc_score(y_test, pred_gbc))\n",
    "print('--------------------------------------------------')\n",
    "\n",
    "# AdaBoostClassifier\n",
    "Base_ada = AdaBoostClassifier(n_estimators=100)\n",
    "Base_ada.fit(X_train, y_train)\n",
    "pred_ada = Base_ada.predict(X_test)\n",
    "print('Base AdaBoost accuracy:', accuracy_score(y_test, pred_ada))\n",
    "print('Base AdaBoost AUC:', roc_auc_score(y_test, pred_ada))\n"
   ]
  },
  {
   "cell_type": "code",
   "execution_count": 19,
   "metadata": {},
   "outputs": [
    {
     "name": "stdout",
     "output_type": "stream",
     "text": [
      "KNN accuracy: 0.8516708229426434\n",
      "KNN AUC: 0.83251685852381\n",
      "--------------------------------------------------\n"
     ]
    },
    {
     "name": "stderr",
     "output_type": "stream",
     "text": [
      "/Users/carolcheng/anaconda3/lib/python3.7/site-packages/sklearn/linear_model/_logistic.py:940: ConvergenceWarning: lbfgs failed to converge (status=1):\n",
      "STOP: TOTAL NO. of ITERATIONS REACHED LIMIT.\n",
      "\n",
      "Increase the number of iterations (max_iter) or scale the data as shown in:\n",
      "    https://scikit-learn.org/stable/modules/preprocessing.html\n",
      "Please also refer to the documentation for alternative solver options:\n",
      "    https://scikit-learn.org/stable/modules/linear_model.html#logistic-regression\n",
      "  extra_warning_msg=_LOGISTIC_SOLVER_CONVERGENCE_MSG)\n"
     ]
    },
    {
     "name": "stdout",
     "output_type": "stream",
     "text": [
      "LogisticRegression accuracy: 0.9087281795511222\n",
      "LogisticRegression AUC: 0.7270134844294627\n",
      "--------------------------------------------------\n",
      "SVM accuracy: 0.9024438902743143\n",
      "SVM AUC: 0.6848060911324085\n",
      "--------------------------------------------------\n",
      "DecisionTree accuracy: 0.8859850374064838\n",
      "DecisionTree AUC: 0.7343053037640747\n",
      "--------------------------------------------------\n",
      "RandomForest accuracy: 0.9141147132169576\n",
      "RandomForest AUC: 0.762528396237837\n",
      "--------------------------------------------------\n",
      "GradientBoosting accuracy: 0.9120199501246883\n",
      "GradientBoosting AUC: 0.7509081419541072\n",
      "--------------------------------------------------\n",
      "AdaBoost accuracy: 0.9132169576059851\n",
      "AdaBoost AUC: 0.7395959948161931\n"
     ]
    }
   ],
   "source": [
    "# How the models perform with the data preprocessed by SMOTE?\n",
    "\n",
    "# KNN\n",
    "model_knn = KNeighborsClassifier()\n",
    "model_knn.fit(X_train_smote, y_train_smote)\n",
    "pred_knn = model_knn.predict(X_test)\n",
    "print('KNN accuracy:', accuracy_score(y_test, pred_knn))\n",
    "print('KNN AUC:', roc_auc_score(y_test, pred_knn))\n",
    "print('--------------------------------------------------')\n",
    "\n",
    "# LogisticRegression\n",
    "model_lr = LogisticRegression(max_iter=2000)\n",
    "model_lr.fit(X_train_smote, y_train_smote)\n",
    "pred_lr = model_lr.predict(X_test)\n",
    "print('LogisticRegression accuracy:', accuracy_score(y_test, pred_lr))\n",
    "print('LogisticRegression AUC:', roc_auc_score(y_test, pred_lr))\n",
    "print('--------------------------------------------------')\n",
    "\n",
    "# SVM\n",
    "model_svm = svm.SVC(kernel='linear')\n",
    "model_svm.fit(X_train_smote, y_train_smote)\n",
    "pred_svm = model_svm.predict(X_test)\n",
    "print('SVM accuracy:', accuracy_score(y_test, pred_svm))\n",
    "print('SVM AUC:', roc_auc_score(y_test, pred_svm))\n",
    "print('--------------------------------------------------')\n",
    "\n",
    "# DecisionTree\n",
    "model_dt = DecisionTreeClassifier()\n",
    "model_dt.fit(X_train_smote, y_train_smote)\n",
    "pred_dt = model_dt.predict(X_test)\n",
    "print('DecisionTree accuracy:', accuracy_score(y_test, pred_dt))\n",
    "print('DecisionTree AUC:', roc_auc_score(y_test, pred_dt))\n",
    "print('--------------------------------------------------')\n",
    "\n",
    "# RandomForest\n",
    "model_rf = RandomForestClassifier()\n",
    "model_rf.fit(X_train_smote, y_train_smote)\n",
    "pred_rf = model_rf.predict(X_test)\n",
    "print('RandomForest accuracy:', accuracy_score(y_test, pred_rf))\n",
    "print('RandomForest AUC:', roc_auc_score(y_test, pred_rf))\n",
    "print('--------------------------------------------------')\n",
    "\n",
    "# GradientBoostingClassifier\n",
    "model_gbc = GradientBoostingClassifier(n_estimators=100, learning_rate=1.0, max_depth=1, random_state=0)\n",
    "model_gbc.fit(X_train_smote, y_train_smote)\n",
    "pred_gbc = model_gbc.predict(X_test)\n",
    "print('GradientBoosting accuracy:', accuracy_score(y_test, pred_gbc))\n",
    "print('GradientBoosting AUC:', roc_auc_score(y_test, pred_gbc))\n",
    "print('--------------------------------------------------')\n",
    "\n",
    "# AdaBoostClassifier\n",
    "model_ada = AdaBoostClassifier(n_estimators=100)\n",
    "model_ada.fit(X_train_smote, y_train_smote)\n",
    "pred_ada = model_ada.predict(X_test)\n",
    "print('AdaBoost accuracy:', accuracy_score(y_test, pred_ada))\n",
    "print('AdaBoost AUC:', roc_auc_score(y_test, pred_ada))"
   ]
  },
  {
   "cell_type": "code",
   "execution_count": 20,
   "metadata": {},
   "outputs": [
    {
     "name": "stdout",
     "output_type": "stream",
     "text": [
      "KNN accuracy: 0.85785536159601\n",
      "KNN AUC: 0.8468281840426684\n",
      "--------------------------------------------------\n",
      "LogisticRegression accuracy: 0.9111221945137157\n",
      "LogisticRegression AUC: 0.7708955289267256\n",
      "--------------------------------------------------\n",
      "SVM accuracy: 0.9110224438902743\n",
      "SVM AUC: 0.7685193353289026\n",
      "--------------------------------------------------\n",
      "DecisionTree accuracy: 0.8831920199501246\n",
      "DecisionTree AUC: 0.7640514083418827\n",
      "--------------------------------------------------\n",
      "RandomForest accuracy: 0.9078304239401497\n",
      "RandomForest AUC: 0.8100272273323946\n",
      "--------------------------------------------------\n",
      "GradientBoosting accuracy: 0.9021446384039901\n",
      "GradientBoosting AUC: 0.8133968412072822\n",
      "--------------------------------------------------\n",
      "AdaBoost accuracy: 0.9010473815461346\n",
      "AdaBoost AUC: 0.8023386372832647\n"
     ]
    }
   ],
   "source": [
    "# What if preprocess the data with both StandardScaler and SMOTE?\n",
    "\n",
    "# KNN\n",
    "model_knn = KNeighborsClassifier()\n",
    "model_knn.fit(Xs_train_smote, ys_train_smote)\n",
    "pred_knn = model_knn.predict(Xs_test)\n",
    "print('KNN accuracy:', accuracy_score(ys_test, pred_knn))\n",
    "print('KNN AUC:', roc_auc_score(ys_test, pred_knn))\n",
    "print('--------------------------------------------------')\n",
    "\n",
    "# LogisticRegression\n",
    "model_lr = LogisticRegression(max_iter=3000)\n",
    "model_lr.fit(Xs_train_smote, ys_train_smote)\n",
    "pred_lr = model_lr.predict(Xs_test)\n",
    "print('LogisticRegression accuracy:', accuracy_score(ys_test, pred_lr))\n",
    "print('LogisticRegression AUC:', roc_auc_score(ys_test, pred_lr))\n",
    "print('--------------------------------------------------')\n",
    "\n",
    "# SVM\n",
    "model_svm = svm.SVC(kernel='linear')\n",
    "model_svm.fit(Xs_train_smote, ys_train_smote)\n",
    "pred_svm = model_svm.predict(Xs_test)\n",
    "print('SVM accuracy:', accuracy_score(ys_test, pred_svm))\n",
    "print('SVM AUC:', roc_auc_score(ys_test, pred_svm))\n",
    "print('--------------------------------------------------')\n",
    "\n",
    "# DecisionTree\n",
    "model_dt = DecisionTreeClassifier()\n",
    "model_dt.fit(Xs_train_smote, ys_train_smote)\n",
    "pred_dt = model_dt.predict(Xs_test)\n",
    "print('DecisionTree accuracy:', accuracy_score(ys_test, pred_dt))\n",
    "print('DecisionTree AUC:', roc_auc_score(ys_test, pred_dt))\n",
    "print('--------------------------------------------------')\n",
    "\n",
    "# RandomForest\n",
    "model_rf = RandomForestClassifier()\n",
    "model_rf.fit(Xs_train_smote, ys_train_smote)\n",
    "pred_rf = model_rf.predict(Xs_test)\n",
    "print('RandomForest accuracy:', accuracy_score(ys_test, pred_rf))\n",
    "print('RandomForest AUC:', roc_auc_score(ys_test, pred_rf))\n",
    "print('--------------------------------------------------')\n",
    "\n",
    "# GradientBoostingClassifier\n",
    "model_gbc = GradientBoostingClassifier(n_estimators=100, learning_rate=1.0, max_depth=1, random_state=0)\n",
    "model_gbc.fit(Xs_train_smote, ys_train_smote)\n",
    "pred_gbc = model_gbc.predict(Xs_test)\n",
    "print('GradientBoosting accuracy:', accuracy_score(ys_test, pred_gbc))\n",
    "print('GradientBoosting AUC:', roc_auc_score(ys_test, pred_gbc))\n",
    "print('--------------------------------------------------')\n",
    "\n",
    "# AdaBoostClassifier\n",
    "model_ada = AdaBoostClassifier(n_estimators=100)\n",
    "model_ada.fit(Xs_train_smote, ys_train_smote)\n",
    "pred_ada = model_ada.predict(Xs_test)\n",
    "print('AdaBoost accuracy:', accuracy_score(ys_test, pred_ada))\n",
    "print('AdaBoost AUC:', roc_auc_score(ys_test, pred_ada))"
   ]
  },
  {
   "cell_type": "code",
   "execution_count": 21,
   "metadata": {},
   "outputs": [
    {
     "data": {
      "text/html": [
       "<div>\n",
       "<style scoped>\n",
       "    .dataframe tbody tr th:only-of-type {\n",
       "        vertical-align: middle;\n",
       "    }\n",
       "\n",
       "    .dataframe tbody tr th {\n",
       "        vertical-align: top;\n",
       "    }\n",
       "\n",
       "    .dataframe thead th {\n",
       "        text-align: right;\n",
       "    }\n",
       "</style>\n",
       "<table border=\"1\" class=\"dataframe\">\n",
       "  <thead>\n",
       "    <tr style=\"text-align: right;\">\n",
       "      <th></th>\n",
       "      <th>No_preprocessing</th>\n",
       "      <th>SMOTE</th>\n",
       "      <th>Standardize+SMOTE</th>\n",
       "    </tr>\n",
       "  </thead>\n",
       "  <tbody>\n",
       "    <tr>\n",
       "      <th>KNN</th>\n",
       "      <td>0.73</td>\n",
       "      <td>0.84</td>\n",
       "      <td>0.84</td>\n",
       "    </tr>\n",
       "    <tr>\n",
       "      <th>LogisticRegression</th>\n",
       "      <td>0.71</td>\n",
       "      <td>0.72</td>\n",
       "      <td>0.77</td>\n",
       "    </tr>\n",
       "    <tr>\n",
       "      <th>SVM</th>\n",
       "      <td>0.72</td>\n",
       "      <td>0.68</td>\n",
       "      <td>0.77</td>\n",
       "    </tr>\n",
       "    <tr>\n",
       "      <th>DecisionTree</th>\n",
       "      <td>0.73</td>\n",
       "      <td>0.73</td>\n",
       "      <td>0.76</td>\n",
       "    </tr>\n",
       "    <tr>\n",
       "      <th>RandomForest</th>\n",
       "      <td>0.74</td>\n",
       "      <td>0.75</td>\n",
       "      <td>0.81</td>\n",
       "    </tr>\n",
       "    <tr>\n",
       "      <th>GradientBoosting</th>\n",
       "      <td>0.73</td>\n",
       "      <td>0.74</td>\n",
       "      <td>0.81</td>\n",
       "    </tr>\n",
       "    <tr>\n",
       "      <th>AdaBoost</th>\n",
       "      <td>0.71</td>\n",
       "      <td>0.74</td>\n",
       "      <td>0.79</td>\n",
       "    </tr>\n",
       "  </tbody>\n",
       "</table>\n",
       "</div>"
      ],
      "text/plain": [
       "                    No_preprocessing  SMOTE  Standardize+SMOTE\n",
       "KNN                             0.73   0.84               0.84\n",
       "LogisticRegression              0.71   0.72               0.77\n",
       "SVM                             0.72   0.68               0.77\n",
       "DecisionTree                    0.73   0.73               0.76\n",
       "RandomForest                    0.74   0.75               0.81\n",
       "GradientBoosting                0.73   0.74               0.81\n",
       "AdaBoost                        0.71   0.74               0.79"
      ]
     },
     "execution_count": 21,
     "metadata": {},
     "output_type": "execute_result"
    }
   ],
   "source": [
    "# Make a dataframe to compare the performance of the base models\n",
    "base_auc = pd.DataFrame([[0.73, 0.84, 0.84], [0.71, 0.72, 0.77], [0.72, 0.68, 0.77],\n",
    "                        [0.73, 0.73, 0.76],[0.74, 0.75, 0.81], [0.73, 0.74, 0.81],\n",
    "                       [0.71, 0.74, 0.79]], \n",
    "                       index=['KNN','LogisticRegression','SVM','DecisionTree','RandomForest','GradientBoosting','AdaBoost'],\n",
    "                      columns=['No_preprocessing','SMOTE','Standardize+SMOTE'])\n",
    "base_auc"
   ]
  },
  {
   "cell_type": "code",
   "execution_count": 22,
   "metadata": {},
   "outputs": [],
   "source": [
    "# - With SMOTE, most of the models' AUC rate improved (except svm). This means SMOTE works well in this case for my goal.\n",
    "#   I also tried ADASYN, and it worked very similar with SMOTE did.\n",
    "# - With both standardizing the data and using SMOTE handling imbalance data, most of the models perform better\n",
    "#   This means standardizing the data also works.\n",
    "# - I will use the models that built with standardization and SMOTE as base models for further optimazation."
   ]
  },
  {
   "cell_type": "code",
   "execution_count": 23,
   "metadata": {},
   "outputs": [],
   "source": [
    "# From the overview above, we can see that the KNN and tree based ensembles models outperformed other models. But we can not\n",
    "# draw a conclusion yet. Let have a further exploration of each individual model."
   ]
  },
  {
   "cell_type": "markdown",
   "metadata": {},
   "source": [
    "### 3. Boosting models' performance with feature engineering and optimazation\n",
    "- Feature engineering might include the following:\n",
    "    - Oversampling minority class\n",
    "    - Correlated variables\n",
    "    - Near Zero Variance\n",
    "    - Principal component analysis (PCA)\n",
    "    - Linear discriminant analysis (LDA)\n",
    "- Optimazation might include the following:\n",
    "    - Stochastic Gradient Descent\n",
    "    - Adam: Adaptive Moment Gradient Descent\n",
    "    - GridSearchCV\n",
    "    - Set stoppimg criterions for decision trees"
   ]
  },
  {
   "cell_type": "markdown",
   "metadata": {},
   "source": [
    "### 3.1 K-Nearest Neighbors"
   ]
  },
  {
   "cell_type": "markdown",
   "metadata": {},
   "source": [
    "#### 3.1.1 Base KNN model (Preprocessing: Standardize+SMOTE)"
   ]
  },
  {
   "cell_type": "code",
   "execution_count": 24,
   "metadata": {},
   "outputs": [
    {
     "name": "stdout",
     "output_type": "stream",
     "text": [
      "KNN AUC: 0.8430739465115241\n",
      "              precision    recall  f1-score   support\n",
      "\n",
      "           0       0.97      0.86      0.92      8896\n",
      "           1       0.43      0.82      0.57      1129\n",
      "\n",
      "    accuracy                           0.86     10025\n",
      "   macro avg       0.70      0.84      0.74     10025\n",
      "weighted avg       0.91      0.86      0.88     10025\n",
      "\n"
     ]
    }
   ],
   "source": [
    "# Print the performance of the base KNN model so that I can use it for comparison later.\n",
    "model_knn = KNeighborsClassifier()\n",
    "model_knn.fit(Xs_train_smote, ys_train_smote)\n",
    "pred_knn = model_knn.predict(Xs_test)\n",
    "\n",
    "print('KNN AUC:', roc_auc_score(ys_test, pred_knn))\n",
    "print(classification_report(ys_test, pred_knn))"
   ]
  },
  {
   "cell_type": "markdown",
   "metadata": {},
   "source": [
    "#### 3.1.2 KNN + VarianceThreshold"
   ]
  },
  {
   "cell_type": "code",
   "execution_count": 25,
   "metadata": {},
   "outputs": [
    {
     "name": "stdout",
     "output_type": "stream",
     "text": [
      "KNN AUC: 0.8346932728396557\n",
      "              precision    recall  f1-score   support\n",
      "\n",
      "           0       0.97      0.87      0.92      8896\n",
      "           1       0.43      0.80      0.56      1129\n",
      "\n",
      "    accuracy                           0.86     10025\n",
      "   macro avg       0.70      0.83      0.74     10025\n",
      "weighted avg       0.91      0.86      0.88     10025\n",
      "\n"
     ]
    }
   ],
   "source": [
    "from sklearn.feature_selection import VarianceThreshold\n",
    "\n",
    "# Make a pipeline and fit the model\n",
    "pipe_knn_VarThre = make_pipeline(VarianceThreshold(0.08), model_knn)\n",
    "pipe_knn_VarThre.fit(Xs_train_smote, ys_train_smote)\n",
    "pred_knn_VarThre = pipe_knn_VarThre.predict(Xs_test)\n",
    "\n",
    "print('KNN AUC:', roc_auc_score(ys_test, pred_knn_VarThre))\n",
    "print(classification_report(ys_test, pred_knn_VarThre))"
   ]
  },
  {
   "cell_type": "code",
   "execution_count": 26,
   "metadata": {},
   "outputs": [
    {
     "data": {
      "text/plain": [
       "(array([False,  True]), array([18, 38]))"
      ]
     },
     "execution_count": 26,
     "metadata": {},
     "output_type": "execute_result"
    }
   ],
   "source": [
    "# Check how many features eliminated and retained by VarianceThresholds\n",
    "selector = VarianceThreshold(0.08)\n",
    "selector.fit(Xs_train_smote)\n",
    "np.unique(selector.get_support(), return_counts=True)"
   ]
  },
  {
   "cell_type": "code",
   "execution_count": 27,
   "metadata": {},
   "outputs": [],
   "source": [
    "# With a VarianceThreshold of 0.08 (18 features removed, and 38 features retained), the classification accuracy is \n",
    "# almost the same with the original one (also tried other threshold). It looks Removing low variance variables does \n",
    "# not help.\n",
    "\n",
    "# Actually, base on my analysis in EDA, I don't actually have variable that near zero variance variable in the dataset."
   ]
  },
  {
   "cell_type": "markdown",
   "metadata": {},
   "source": [
    "#### 3.1.3 KNN + SelectKBest"
   ]
  },
  {
   "cell_type": "code",
   "execution_count": 28,
   "metadata": {},
   "outputs": [
    {
     "name": "stdout",
     "output_type": "stream",
     "text": [
      "KNN AUC: 0.8407810399156318\n",
      "              precision    recall  f1-score   support\n",
      "\n",
      "           0       0.97      0.87      0.92      8896\n",
      "           1       0.44      0.81      0.57      1129\n",
      "\n",
      "    accuracy                           0.86     10025\n",
      "   macro avg       0.71      0.84      0.74     10025\n",
      "weighted avg       0.91      0.86      0.88     10025\n",
      "\n"
     ]
    }
   ],
   "source": [
    "from sklearn.feature_selection import SelectKBest\n",
    "\n",
    "# Make a pipeline and fit the model\n",
    "pipe_knn_SelectKB = make_pipeline(SelectKBest(k=40), model_knn)\n",
    "pipe_knn_SelectKB.fit(Xs_train_smote, ys_train_smote)\n",
    "pred_knn_SelectKB = pipe_knn_SelectKB.predict(Xs_test)\n",
    "\n",
    "print('KNN AUC:', roc_auc_score(ys_test, pred_knn_SelectKB))\n",
    "print(classification_report(ys_test, pred_knn_SelectKB))"
   ]
  },
  {
   "cell_type": "code",
   "execution_count": 29,
   "metadata": {},
   "outputs": [],
   "source": [
    "# Again, using SelectKBest to select the best 40 features (also try 30 and 50) doesn't seem to improve the performance"
   ]
  },
  {
   "cell_type": "markdown",
   "metadata": {},
   "source": [
    "#### 3.1.4 KNN + PCA "
   ]
  },
  {
   "cell_type": "code",
   "execution_count": 30,
   "metadata": {},
   "outputs": [
    {
     "data": {
      "text/plain": [
       "<matplotlib.axes._subplots.AxesSubplot at 0x1a28874550>"
      ]
     },
     "execution_count": 30,
     "metadata": {},
     "output_type": "execute_result"
    },
    {
     "data": {
      "image/png": "[encoded data removed]",
      "text/plain": [
       "<Figure size 432x288 with 1 Axes>"
      ]
     },
     "metadata": {
      "needs_background": "light"
     },
     "output_type": "display_data"
    }
   ],
   "source": [
    "from sklearn.decomposition import PCA\n",
    "pca = PCA(n_components=40)\n",
    "pca.fit(X_stad)\n",
    "pd.DataFrame(pca.explained_variance_ratio_).cumsum().plot.bar()"
   ]
  },
  {
   "cell_type": "code",
   "execution_count": 31,
   "metadata": {},
   "outputs": [
    {
     "data": {
      "text/plain": [
       "<matplotlib.axes._subplots.AxesSubplot at 0x1a2e9888d0>"
      ]
     },
     "execution_count": 31,
     "metadata": {},
     "output_type": "execute_result"
    },
    {
     "data": {
      "image/png": "[encoded data removed]",
      "text/plain": [
       "<Figure size 432x288 with 1 Axes>"
      ]
     },
     "metadata": {
      "needs_background": "light"
     },
     "output_type": "display_data"
    }
   ],
   "source": [
    "pca = PCA(n_components=30)\n",
    "pca.fit(X_stad)\n",
    "pd.DataFrame(pca.explained_variance_ratio_).cumsum().plot.bar()"
   ]
  },
  {
   "cell_type": "code",
   "execution_count": 32,
   "metadata": {},
   "outputs": [
    {
     "data": {
      "text/plain": [
       "0.9719384963623497"
      ]
     },
     "execution_count": 32,
     "metadata": {},
     "output_type": "execute_result"
    }
   ],
   "source": [
    "pca.explained_variance_ratio_.sum()"
   ]
  },
  {
   "cell_type": "code",
   "execution_count": 33,
   "metadata": {},
   "outputs": [
    {
     "name": "stdout",
     "output_type": "stream",
     "text": [
      "KNN AUC: 0.8473157589959919\n",
      "              precision    recall  f1-score   support\n",
      "\n",
      "           0       0.98      0.85      0.91      8896\n",
      "           1       0.42      0.84      0.56      1129\n",
      "\n",
      "    accuracy                           0.85     10025\n",
      "   macro avg       0.70      0.85      0.74     10025\n",
      "weighted avg       0.91      0.85      0.87     10025\n",
      "\n"
     ]
    }
   ],
   "source": [
    "# Make a pipeline and fit the model\n",
    "pipe_knn_pca = make_pipeline(PCA(n_components=40), model_knn)\n",
    "pipe_knn_pca.fit(Xs_train_smote, ys_train_smote)\n",
    "pred_knn_pca = pipe_knn_pca.predict(Xs_test)\n",
    "\n",
    "print('KNN AUC:', roc_auc_score(ys_test, pred_knn_pca))\n",
    "print(classification_report(ys_test, pred_knn_pca))"
   ]
  },
  {
   "cell_type": "code",
   "execution_count": 34,
   "metadata": {},
   "outputs": [],
   "source": [
    "# With a pca(n_components=40)(also try n_components 20, 25, 30, 50), there is no obvious change in model's performance."
   ]
  },
  {
   "cell_type": "markdown",
   "metadata": {},
   "source": [
    "#### 3.1.4 KNN + GridSearchCV"
   ]
  },
  {
   "cell_type": "code",
   "execution_count": 44,
   "metadata": {},
   "outputs": [
    {
     "name": "stdout",
     "output_type": "stream",
     "text": [
      "Fitting 5 folds for each of 60 candidates, totalling 300 fits\n"
     ]
    },
    {
     "name": "stderr",
     "output_type": "stream",
     "text": [
      "[Parallel(n_jobs=1)]: Using backend SequentialBackend with 1 concurrent workers.\n",
      "[Parallel(n_jobs=1)]: Done 300 out of 300 | elapsed: 240.7min finished\n"
     ]
    },
    {
     "data": {
      "text/plain": [
       "GridSearchCV(cv=5, error_score=nan,\n",
       "             estimator=KNeighborsClassifier(algorithm='auto', leaf_size=30,\n",
       "                                            metric='minkowski',\n",
       "                                            metric_params=None, n_jobs=None,\n",
       "                                            n_neighbors=5, p=2,\n",
       "                                            weights='uniform'),\n",
       "             iid='deprecated', n_jobs=None,\n",
       "             param_grid={'algorithm': ['auto', 'ball_tree', 'kd_tree'],\n",
       "                         'metric': ['euclidean', 'manhattan'],\n",
       "                         'n_neighbors': [3, 5, 8, 12, 16],\n",
       "                         'weights': ['uniform', 'distance']},\n",
       "             pre_dispatch='2*n_jobs', refit=True, return_train_score=False,\n",
       "             scoring=None, verbose=1)"
      ]
     },
     "execution_count": 44,
     "metadata": {},
     "output_type": "execute_result"
    }
   ],
   "source": [
    "from sklearn.model_selection import GridSearchCV\n",
    "knn_params = {\n",
    "    'n_neighbors':[3, 5, 8, 12, 16],\n",
    "    'weights':['uniform','distance'],\n",
    "    'metric':['euclidean','manhattan'],\n",
    "    'algorithm':['auto', 'ball_tree', 'kd_tree']\n",
    "}\n",
    "knn_gridsearch = GridSearchCV(KNeighborsClassifier(), knn_params, cv=5, verbose=1)\n",
    "knn_gridsearch.fit(Xs_train_smote, ys_train_smote)"
   ]
  },
  {
   "cell_type": "code",
   "execution_count": 45,
   "metadata": {},
   "outputs": [
    {
     "name": "stdout",
     "output_type": "stream",
     "text": [
      "{'algorithm': 'auto', 'metric': 'manhattan', 'n_neighbors': 3, 'weights': 'distance'}\n",
      "0.9391231028667791\n"
     ]
    }
   ],
   "source": [
    "# Print out the set of hyperparameters that achieved the best score.\n",
    "print(knn_gridsearch.best_params_)\n",
    "\n",
    "# Print out the best score found in the search\n",
    "print(knn_gridsearch.best_score_)\n"
   ]
  },
  {
   "cell_type": "code",
   "execution_count": 46,
   "metadata": {},
   "outputs": [
    {
     "data": {
      "text/plain": [
       "KNeighborsClassifier(algorithm='auto', leaf_size=30, metric='manhattan',\n",
       "                     metric_params=None, n_jobs=None, n_neighbors=3, p=2,\n",
       "                     weights='distance')"
      ]
     },
     "execution_count": 46,
     "metadata": {},
     "output_type": "execute_result"
    }
   ],
   "source": [
    "knn_gridsearch.best_estimator_"
   ]
  },
  {
   "cell_type": "code",
   "execution_count": 49,
   "metadata": {},
   "outputs": [
    {
     "name": "stdout",
     "output_type": "stream",
     "text": [
      "KNN+GridSearch AUC: 0.798799113941796\n",
      "              precision    recall  f1-score   support\n",
      "\n",
      "           0       0.96      0.89      0.93      8896\n",
      "           1       0.46      0.70      0.55      1129\n",
      "\n",
      "    accuracy                           0.87     10025\n",
      "   macro avg       0.71      0.80      0.74     10025\n",
      "weighted avg       0.90      0.87      0.88     10025\n",
      "\n"
     ]
    }
   ],
   "source": [
    "# Use the best estimator to make prediction\n",
    "# knn_gridsearch.best_estimator_\n",
    "best_estimator = knn_gridsearch.best_estimator_\n",
    "best_estimator.fit(Xs_train_smote, ys_train_smote)\n",
    "y_pred = best_estimator.predict(Xs_test)\n",
    "\n",
    "# Classification Report\n",
    "print('KNN+GridSearch AUC:', roc_auc_score(ys_test, y_pred))\n",
    "print(classification_report(ys_test, y_pred))"
   ]
  },
  {
   "cell_type": "code",
   "execution_count": 35,
   "metadata": {},
   "outputs": [],
   "source": [
    "# The estimator from GridSearch does not perform better."
   ]
  },
  {
   "cell_type": "code",
   "execution_count": 36,
   "metadata": {},
   "outputs": [],
   "source": [
    "# For KNN model, the chosen feature engineering and hyperparameters tuning does not seem work well. \n",
    "# The base KNN model will be chosen as a candidate for the classification task."
   ]
  },
  {
   "cell_type": "markdown",
   "metadata": {},
   "source": [
    "### 3.2 Logistic Regression"
   ]
  },
  {
   "cell_type": "markdown",
   "metadata": {},
   "source": [
    "#### 3.2.1 Base Logistic Regression model (Preprocessing: Standardize+SMOTE)"
   ]
  },
  {
   "cell_type": "code",
   "execution_count": 37,
   "metadata": {},
   "outputs": [
    {
     "name": "stdout",
     "output_type": "stream",
     "text": [
      "LogisticRegression AUC: 0.772118498735113\n",
      "              precision    recall  f1-score   support\n",
      "\n",
      "           0       0.95      0.95      0.95      8896\n",
      "           1       0.61      0.59      0.60      1129\n",
      "\n",
      "    accuracy                           0.91     10025\n",
      "   macro avg       0.78      0.77      0.78     10025\n",
      "weighted avg       0.91      0.91      0.91     10025\n",
      "\n"
     ]
    }
   ],
   "source": [
    "model_lr = LogisticRegression(max_iter=1000)\n",
    "model_lr.fit(Xs_train_smote, ys_train_smote)\n",
    "pred_lr = model_lr.predict(Xs_test)\n",
    "\n",
    "print('LogisticRegression AUC:', roc_auc_score(ys_test, pred_lr))\n",
    "print(classification_report(ys_test, pred_lr))"
   ]
  },
  {
   "cell_type": "markdown",
   "metadata": {},
   "source": [
    "#### 3.2.2 Logistic Regression + Univirate feature selection"
   ]
  },
  {
   "cell_type": "code",
   "execution_count": 38,
   "metadata": {},
   "outputs": [
    {
     "name": "stdout",
     "output_type": "stream",
     "text": [
      "lr+smote+SelectFwe AUC: 0.7843455085355985\n",
      "              precision    recall  f1-score   support\n",
      "\n",
      "           0       0.95      0.94      0.95      8896\n",
      "           1       0.59      0.62      0.61      1129\n",
      "\n",
      "    accuracy                           0.91     10025\n",
      "   macro avg       0.77      0.78      0.78     10025\n",
      "weighted avg       0.91      0.91      0.91     10025\n",
      "\n"
     ]
    }
   ],
   "source": [
    "# SelectFwe\n",
    "from sklearn.feature_selection import SelectFwe\n",
    "model_lr = LogisticRegression(max_iter=500)\n",
    "# Make a pipeline that include the feature selection and the model\n",
    "pipe_lr_SelectFwe = make_pipeline(SelectFwe(), model_lr)\n",
    "# Fit the model and make prediction\n",
    "pipe_lr_SelectFwe.fit(Xs_train_smote, ys_train_smote)\n",
    "pred_lr_SelectFwe = pipe_lr_SelectFwe.predict(Xs_test)\n",
    "# Print the performance of the classification\n",
    "print('lr+smote+SelectFwe AUC:', roc_auc_score(ys_test, pred_lr_SelectFwe))\n",
    "print(classification_report(ys_test, pred_lr_SelectFwe))"
   ]
  },
  {
   "cell_type": "code",
   "execution_count": 39,
   "metadata": {},
   "outputs": [],
   "source": [
    "# From the result, SelectFwe slightly imporved the recall and AUC. \n",
    "# Using SelectFpr and SelcetFdr got exactly the same result."
   ]
  },
  {
   "cell_type": "markdown",
   "metadata": {},
   "source": [
    "#### 3.2.3 Logistic Regression + RFECV"
   ]
  },
  {
   "cell_type": "code",
   "execution_count": 40,
   "metadata": {
    "scrolled": false
   },
   "outputs": [
    {
     "name": "stdout",
     "output_type": "stream",
     "text": [
      "lr+smote+RFECV AUC: 0.7750499722011583\n",
      "              precision    recall  f1-score   support\n",
      "\n",
      "           0       0.95      0.95      0.95      8896\n",
      "           1       0.61      0.60      0.61      1129\n",
      "\n",
      "    accuracy                           0.91     10025\n",
      "   macro avg       0.78      0.78      0.78     10025\n",
      "weighted avg       0.91      0.91      0.91     10025\n",
      "\n"
     ]
    }
   ],
   "source": [
    "# RFECV\n",
    "from sklearn.feature_selection import RFECV\n",
    "model_lr = LogisticRegression(max_iter=500)\n",
    "pipe_lr_RFECV = make_pipeline(RFECV(estimator=model_lr, scoring=\"roc_auc\"), model_lr)\n",
    "pipe_lr_RFECV.fit(Xs_train_smote, ys_train_smote)\n",
    "pred_lr_RFECV = pipe_lr_RFECV.predict(Xs_test)\n",
    "\n",
    "print('lr+smote+RFECV AUC:', roc_auc_score(ys_test, pred_lr_RFECV))\n",
    "print(classification_report(ys_test, pred_lr_RFECV))"
   ]
  },
  {
   "cell_type": "code",
   "execution_count": 41,
   "metadata": {},
   "outputs": [],
   "source": [
    "# RFECV doesn't work better than SelecFwe for this dataset."
   ]
  },
  {
   "cell_type": "markdown",
   "metadata": {},
   "source": [
    "#### 3.2.4 Logistic Regression + pca + Removing correlated variables"
   ]
  },
  {
   "cell_type": "code",
   "execution_count": 42,
   "metadata": {},
   "outputs": [],
   "source": [
    "# As there are perfectly or highly correlation exist among some variables, this can cause “Multicollinearity”.\n",
    "# Logistic Regression are not immune to “Multicollinearity” problem. Then I will need to do some feature engineering"
   ]
  },
  {
   "cell_type": "code",
   "execution_count": 43,
   "metadata": {},
   "outputs": [
    {
     "name": "stdout",
     "output_type": "stream",
     "text": [
      "lr+smote+pca AUC: 0.8506954788250887\n",
      "              precision    recall  f1-score   support\n",
      "\n",
      "           0       0.97      0.88      0.93      8896\n",
      "           1       0.47      0.82      0.60      1129\n",
      "\n",
      "    accuracy                           0.88     10025\n",
      "   macro avg       0.72      0.85      0.76     10025\n",
      "weighted avg       0.92      0.88      0.89     10025\n",
      "\n"
     ]
    }
   ],
   "source": [
    "# PCA\n",
    "from sklearn.decomposition import PCA\n",
    "model_lr = LogisticRegression(max_iter=500)\n",
    "pipe_lr_pca = make_pipeline(PCA(n_components=35), model_lr)\n",
    "pipe_lr_pca.fit(Xs_train_smote, ys_train_smote)\n",
    "pred_lr_pca = pipe_lr_pca.predict(Xs_test)\n",
    "\n",
    "print('lr+smote+pca AUC:', roc_auc_score(ys_test, pred_lr_pca))\n",
    "print(classification_report(ys_test, pred_lr_pca))"
   ]
  },
  {
   "cell_type": "code",
   "execution_count": 44,
   "metadata": {},
   "outputs": [],
   "source": [
    "# By comparing the model with different feature selection stratigies, the best model so far is the one \n",
    "# using pca(n_components=35)"
   ]
  },
  {
   "cell_type": "code",
   "execution_count": 45,
   "metadata": {},
   "outputs": [
    {
     "name": "stdout",
     "output_type": "stream",
     "text": [
      "lr+smote+pca+remove_correlation accuracy: 0.8711221945137158\n",
      "lr+smote+pca+remove_correlation AUC: 0.8481168176619024\n",
      "              precision    recall  f1-score   support\n",
      "\n",
      "           0       0.97      0.88      0.92      8896\n",
      "           1       0.46      0.82      0.59      1129\n",
      "\n",
      "    accuracy                           0.87     10025\n",
      "   macro avg       0.72      0.85      0.76     10025\n",
      "weighted avg       0.92      0.87      0.89     10025\n",
      "\n"
     ]
    }
   ],
   "source": [
    "# What if I manually remove some of the variables that are perfectly or highly correlated to each other\n",
    "\n",
    "y = df_bank_encoded['y'].values \n",
    "Xs2 = stad_scaler(df_bank_encoded.drop(['euribor_3m_rate', 'num_of_employees'], axis=1))\n",
    "Xs2_train, Xs2_test, ys2_train, ys2_test = train_test_split(Xs2, y, train_size=0.75, test_size=0.25, \n",
    "                                                        random_state=42, stratify=y)\n",
    "Xs2_train_smote, ys2_train_smote = SMOTE().fit_resample(Xs2_train, ys2_train)\n",
    "\n",
    "model_lr = LogisticRegression(max_iter=500)\n",
    "pipe_lr_pca_2 = make_pipeline(PCA(n_components=35), model_lr)\n",
    "pipe_lr_pca_2.fit(Xs2_train_smote, ys2_train_smote)\n",
    "pred_lr_pca_2 = pipe_lr_pca_2.predict(Xs2_test)\n",
    "\n",
    "print('lr+smote+pca+remove_correlation accuracy:', accuracy_score(ys2_test, pred_lr_pca_2))\n",
    "print('lr+smote+pca+remove_correlation AUC:', roc_auc_score(ys2_test, pred_lr_pca_2))\n",
    "print(classification_report(ys2_test, pred_lr_pca_2))"
   ]
  },
  {
   "cell_type": "code",
   "execution_count": 46,
   "metadata": {},
   "outputs": [],
   "source": [
    "# Removing the two correlated variables doesn't seem to change the model performance"
   ]
  },
  {
   "cell_type": "markdown",
   "metadata": {},
   "source": [
    "#### 3.2.5 Logistic Regression + GridSearchCV()"
   ]
  },
  {
   "cell_type": "code",
   "execution_count": 49,
   "metadata": {},
   "outputs": [
    {
     "name": "stdout",
     "output_type": "stream",
     "text": [
      "Fitting 5 folds for each of 12 candidates, totalling 60 fits\n"
     ]
    },
    {
     "name": "stderr",
     "output_type": "stream",
     "text": [
      "[Parallel(n_jobs=1)]: Using backend SequentialBackend with 1 concurrent workers.\n",
      "[Parallel(n_jobs=1)]: Done  60 out of  60 | elapsed: 10.1min finished\n"
     ]
    },
    {
     "data": {
      "text/plain": [
       "GridSearchCV(cv=5, error_score=nan,\n",
       "             estimator=LogisticRegression(C=1.0, class_weight=None, dual=False,\n",
       "                                          fit_intercept=True,\n",
       "                                          intercept_scaling=1, l1_ratio=None,\n",
       "                                          max_iter=2000, multi_class='auto',\n",
       "                                          n_jobs=None, penalty='l2',\n",
       "                                          random_state=None, solver='lbfgs',\n",
       "                                          tol=0.0001, verbose=0,\n",
       "                                          warm_start=False),\n",
       "             iid='deprecated', n_jobs=None,\n",
       "             param_grid={'C': [0.001, 0.01, 0.1, 0.2, 0.3, 0.5],\n",
       "                         'class_weight': ['balanced'], 'penalty': ['l1', 'l2'],\n",
       "                         'solver': ['saga']},\n",
       "             pre_dispatch='2*n_jobs', refit=True, return_train_score=False,\n",
       "             scoring=None, verbose=1)"
      ]
     },
     "execution_count": 49,
     "metadata": {},
     "output_type": "execute_result"
    }
   ],
   "source": [
    "from sklearn.model_selection import GridSearchCV\n",
    "lr_params = {\n",
    "    'penalty':['l1','l2'],\n",
    "    'C':[0.001, 0.01, 0.1, 0.2, 0.3, 0.5],\n",
    "    'class_weight': ['balanced'],\n",
    "    'solver':['saga']\n",
    "}\n",
    "lr_gridsearch = GridSearchCV(LogisticRegression(max_iter=2000), lr_params, cv=5, verbose=1)\n",
    "lr_gridsearch.fit(Xs_train_smote, ys_train_smote)"
   ]
  },
  {
   "cell_type": "code",
   "execution_count": 51,
   "metadata": {},
   "outputs": [
    {
     "name": "stdout",
     "output_type": "stream",
     "text": [
      "{'C': 0.1, 'class_weight': 'balanced', 'penalty': 'l2', 'solver': 'saga'}\n",
      "0.9211542064830429\n",
      "LogisticRegression(C=0.1, class_weight='balanced', dual=False,\n",
      "                   fit_intercept=True, intercept_scaling=1, l1_ratio=None,\n",
      "                   max_iter=2000, multi_class='auto', n_jobs=None, penalty='l2',\n",
      "                   random_state=None, solver='saga', tol=0.0001, verbose=0,\n",
      "                   warm_start=False)\n"
     ]
    }
   ],
   "source": [
    "# Print out the set of hyperparameters that achieved the best score.\n",
    "print(lr_gridsearch.best_params_)\n",
    "\n",
    "# Print out the best score found in the search\n",
    "print(lr_gridsearch.best_score_)\n",
    "\n",
    "# Print out the best estimator\n",
    "print(lr_gridsearch.best_estimator_)"
   ]
  },
  {
   "cell_type": "code",
   "execution_count": 55,
   "metadata": {},
   "outputs": [
    {
     "name": "stdout",
     "output_type": "stream",
     "text": [
      "lr+smote+pca+gridsearch AUC: 0.8516800875066113\n",
      "              precision    recall  f1-score   support\n",
      "\n",
      "           0       0.98      0.88      0.93      8896\n",
      "           1       0.47      0.82      0.60      1129\n",
      "\n",
      "    accuracy                           0.87     10025\n",
      "   macro avg       0.72      0.85      0.76     10025\n",
      "weighted avg       0.92      0.87      0.89     10025\n",
      "\n"
     ]
    }
   ],
   "source": [
    "# Use the best estimator to make prediction\n",
    "\n",
    "best_lr = LogisticRegression(C=0.1, class_weight='balanced', dual=False,\n",
    "                   fit_intercept=True, intercept_scaling=1, l1_ratio=None,\n",
    "                   max_iter=2000, multi_class='auto', n_jobs=None, penalty='l2',\n",
    "                   random_state=None, solver='saga', tol=0.0001, verbose=0,\n",
    "                   warm_start=False)\n",
    "pipe_lr_gs = make_pipeline(PCA(n_components=35), best_lr)\n",
    "pipe_lr_gs.fit(Xs_train_smote, ys_train_smote)\n",
    "pred_lr_gs = pipe_lr_gs.predict(Xs_test)\n",
    "\n",
    "print('lr+smote+pca+gridsearch AUC:', roc_auc_score(ys_test, pred_lr_gs))\n",
    "print(classification_report(ys_test, pred_lr_gs))"
   ]
  },
  {
   "cell_type": "code",
   "execution_count": 66,
   "metadata": {},
   "outputs": [
    {
     "name": "stdout",
     "output_type": "stream",
     "text": [
      "Fitting 5 folds for each of 16 candidates, totalling 80 fits\n"
     ]
    },
    {
     "name": "stderr",
     "output_type": "stream",
     "text": [
      "[Parallel(n_jobs=1)]: Using backend SequentialBackend with 1 concurrent workers.\n",
      "[Parallel(n_jobs=1)]: Done  80 out of  80 | elapsed:   49.3s finished\n"
     ]
    },
    {
     "data": {
      "text/plain": [
       "GridSearchCV(cv=5, error_score=nan,\n",
       "             estimator=Pipeline(memory=None,\n",
       "                                steps=[('pca',\n",
       "                                        PCA(copy=True, iterated_power='auto',\n",
       "                                            n_components=35, random_state=None,\n",
       "                                            svd_solver='auto', tol=0.0,\n",
       "                                            whiten=False)),\n",
       "                                       ('logisticregression',\n",
       "                                        LogisticRegression(C=1.0,\n",
       "                                                           class_weight=None,\n",
       "                                                           dual=False,\n",
       "                                                           fit_intercept=True,\n",
       "                                                           intercept_scaling=1,\n",
       "                                                           l1_ratio=None,\n",
       "                                                           max_iter=1000,\n",
       "                                                           multi_class='auto...\n",
       "                                                           warm_start=False))],\n",
       "                                verbose=False),\n",
       "             iid='deprecated', n_jobs=None,\n",
       "             param_grid={'logisticregression__C': [0.0001, 0.001, 0.01, 0.1,\n",
       "                                                   0.2, 0.3, 0.5, 0.8],\n",
       "                         'logisticregression__class_weight': ['balanced'],\n",
       "                         'logisticregression__penalty': ['l1', 'l2'],\n",
       "                         'logisticregression__solver': ['saga']},\n",
       "             pre_dispatch='2*n_jobs', refit=True, return_train_score=False,\n",
       "             scoring=None, verbose=1)"
      ]
     },
     "execution_count": 66,
     "metadata": {},
     "output_type": "execute_result"
    }
   ],
   "source": [
    "# GridSearch with the pipeline (PCA+LogisticRegression)\n",
    "\n",
    "plr = make_pipeline(PCA(n_components=35), LogisticRegression(max_iter=1000))\n",
    "\n",
    "plr_params = {}\n",
    "plr_params['logisticregression__penalty'] = ['l1','l2']\n",
    "plr_params['logisticregression__C'] = [0.0001, 0.001, 0.01, 0.1, 0.2, 0.3, 0.5, 0.8]\n",
    "plr_params['logisticregression__class_weight'] = ['balanced']\n",
    "plr_params['logisticregression__solver'] = ['saga']\n",
    "\n",
    "plr_gridsearch = GridSearchCV(plr, plr_params, cv=5, verbose=1)\n",
    "plr_gridsearch.fit(Xs_train_smote, ys_train_smote)"
   ]
  },
  {
   "cell_type": "code",
   "execution_count": 67,
   "metadata": {},
   "outputs": [
    {
     "name": "stdout",
     "output_type": "stream",
     "text": [
      "{'logisticregression__C': 0.1, 'logisticregression__class_weight': 'balanced', 'logisticregression__penalty': 'l1', 'logisticregression__solver': 'saga'}\n",
      "0.8952782462057336\n",
      "Pipeline(memory=None,\n",
      "         steps=[('pca',\n",
      "                 PCA(copy=True, iterated_power='auto', n_components=35,\n",
      "                     random_state=None, svd_solver='auto', tol=0.0,\n",
      "                     whiten=False)),\n",
      "                ('logisticregression',\n",
      "                 LogisticRegression(C=0.1, class_weight='balanced', dual=False,\n",
      "                                    fit_intercept=True, intercept_scaling=1,\n",
      "                                    l1_ratio=None, max_iter=1000,\n",
      "                                    multi_class='auto', n_jobs=None,\n",
      "                                    penalty='l1', random_state=None,\n",
      "                                    solver='saga', tol=0.0001, verbose=0,\n",
      "                                    warm_start=False))],\n",
      "         verbose=False)\n"
     ]
    }
   ],
   "source": [
    "# Print out the set of hyperparameters that achieved the best score.\n",
    "print(plr_gridsearch.best_params_)\n",
    "\n",
    "# Print out the best score found in the search\n",
    "print(plr_gridsearch.best_score_)\n",
    "\n",
    "# Print out the best estimator\n",
    "print(plr_gridsearch.best_estimator_)"
   ]
  },
  {
   "cell_type": "code",
   "execution_count": 69,
   "metadata": {},
   "outputs": [
    {
     "name": "stdout",
     "output_type": "stream",
     "text": [
      " lr pipe gridsearch AUC: 0.8505695277701665\n",
      "              precision    recall  f1-score   support\n",
      "\n",
      "           0       0.97      0.88      0.93      8896\n",
      "           1       0.46      0.82      0.59      1129\n",
      "\n",
      "    accuracy                           0.87     10025\n",
      "   macro avg       0.72      0.85      0.76     10025\n",
      "weighted avg       0.92      0.87      0.89     10025\n",
      "\n"
     ]
    }
   ],
   "source": [
    "# Use the best estimator to make prediction\n",
    "\n",
    "best_pipe = plr_gridsearch.best_estimator_\n",
    "best_pipe.fit(Xs_train_smote, ys_train_smote)\n",
    "pred_best_pipe = best_pipe.predict(Xs_test)\n",
    "\n",
    "print(' lr pipe gridsearch AUC:', roc_auc_score(ys_test, pred_best_pipe))\n",
    "print(classification_report(ys_test, pred_best_pipe))"
   ]
  },
  {
   "cell_type": "code",
   "execution_count": 56,
   "metadata": {},
   "outputs": [],
   "source": [
    "# The pipeline gridsearch got very similar performance with the lr model gridsearch did.\n",
    "# GridSearchCV doesn't seem to help here."
   ]
  },
  {
   "cell_type": "code",
   "execution_count": 58,
   "metadata": {},
   "outputs": [
    {
     "data": {
      "text/html": [
       "<div>\n",
       "<style scoped>\n",
       "    .dataframe tbody tr th:only-of-type {\n",
       "        vertical-align: middle;\n",
       "    }\n",
       "\n",
       "    .dataframe tbody tr th {\n",
       "        vertical-align: top;\n",
       "    }\n",
       "\n",
       "    .dataframe thead th {\n",
       "        text-align: right;\n",
       "    }\n",
       "</style>\n",
       "<table border=\"1\" class=\"dataframe\">\n",
       "  <thead>\n",
       "    <tr style=\"text-align: right;\">\n",
       "      <th></th>\n",
       "      <th>percision</th>\n",
       "      <th>recall</th>\n",
       "      <th>F1</th>\n",
       "      <th>AUC</th>\n",
       "    </tr>\n",
       "  </thead>\n",
       "  <tbody>\n",
       "    <tr>\n",
       "      <th>Base</th>\n",
       "      <td>0.61</td>\n",
       "      <td>0.59</td>\n",
       "      <td>0.60</td>\n",
       "      <td>0.77</td>\n",
       "    </tr>\n",
       "    <tr>\n",
       "      <th>SelectFwe</th>\n",
       "      <td>0.59</td>\n",
       "      <td>0.62</td>\n",
       "      <td>0.61</td>\n",
       "      <td>0.78</td>\n",
       "    </tr>\n",
       "    <tr>\n",
       "      <th>RFECV</th>\n",
       "      <td>0.61</td>\n",
       "      <td>0.60</td>\n",
       "      <td>0.61</td>\n",
       "      <td>0.78</td>\n",
       "    </tr>\n",
       "    <tr>\n",
       "      <th>pca35</th>\n",
       "      <td>0.47</td>\n",
       "      <td>0.82</td>\n",
       "      <td>0.60</td>\n",
       "      <td>0.85</td>\n",
       "    </tr>\n",
       "    <tr>\n",
       "      <th>GridSearch</th>\n",
       "      <td>0.47</td>\n",
       "      <td>0.82</td>\n",
       "      <td>0.60</td>\n",
       "      <td>0.85</td>\n",
       "    </tr>\n",
       "  </tbody>\n",
       "</table>\n",
       "</div>"
      ],
      "text/plain": [
       "            percision  recall    F1   AUC\n",
       "Base             0.61    0.59  0.60  0.77\n",
       "SelectFwe        0.59    0.62  0.61  0.78\n",
       "RFECV            0.61    0.60  0.61  0.78\n",
       "pca35            0.47    0.82  0.60  0.85\n",
       "GridSearch       0.47    0.82  0.60  0.85"
      ]
     },
     "execution_count": 58,
     "metadata": {},
     "output_type": "execute_result"
    }
   ],
   "source": [
    "# Make a dataframe to compare the performance of the models\n",
    "compare = pd.DataFrame([[0.61,0.59,0.6,0.77], [0.59, 0.62, 0.61, 0.78], [0.61, 0.60, 0.61, 0.78],\n",
    "                        [0.47, 0.82, 0.60, 0.85], [0.47, 0.82, 0.60, 0.85]], \n",
    "                       index=['Base','SelectFwe','RFECV','pca35','GridSearch'],\n",
    "                      columns=['percision','recall','F1','AUC'])\n",
    "compare"
   ]
  },
  {
   "cell_type": "code",
   "execution_count": 59,
   "metadata": {},
   "outputs": [],
   "source": [
    "# The Logistic Regression model with PCA(n_components=35) works well for this dataset. I will use this model as a\n",
    "# canddidate for the classification."
   ]
  },
  {
   "cell_type": "markdown",
   "metadata": {},
   "source": [
    "### 3.3 SVM"
   ]
  },
  {
   "cell_type": "markdown",
   "metadata": {},
   "source": [
    "##### 3.3.1 SVM base model"
   ]
  },
  {
   "cell_type": "code",
   "execution_count": 60,
   "metadata": {},
   "outputs": [
    {
     "name": "stdout",
     "output_type": "stream",
     "text": [
      "SVM AUC: 0.7725613685313929\n",
      "              precision    recall  f1-score   support\n",
      "\n",
      "           0       0.95      0.95      0.95      8896\n",
      "           1       0.61      0.59      0.60      1129\n",
      "\n",
      "    accuracy                           0.91     10025\n",
      "   macro avg       0.78      0.77      0.78     10025\n",
      "weighted avg       0.91      0.91      0.91     10025\n",
      "\n"
     ]
    }
   ],
   "source": [
    "model_svm = svm.SVC(kernel='linear')\n",
    "model_svm.fit(Xs_train_smote, ys_train_smote)\n",
    "pred_svm = model_svm.predict(Xs_test)\n",
    "\n",
    "print('SVM AUC:', roc_auc_score(ys_test, pred_svm))\n",
    "print(classification_report(ys_test, pred_svm))"
   ]
  },
  {
   "cell_type": "markdown",
   "metadata": {},
   "source": [
    "#### 3.3.2 LinearSVC"
   ]
  },
  {
   "cell_type": "code",
   "execution_count": 61,
   "metadata": {},
   "outputs": [],
   "source": [
    "from sklearn.svm import LinearSVC\n",
    "from sklearn.preprocessing import MinMaxScaler"
   ]
  },
  {
   "cell_type": "code",
   "execution_count": 184,
   "metadata": {},
   "outputs": [
    {
     "name": "stdout",
     "output_type": "stream",
     "text": [
      "Fitting 5 folds for each of 5 candidates, totalling 25 fits\n"
     ]
    },
    {
     "name": "stderr",
     "output_type": "stream",
     "text": [
      "[Parallel(n_jobs=1)]: Using backend SequentialBackend with 1 concurrent workers.\n",
      "/Users/carolcheng/anaconda3/lib/python3.7/site-packages/sklearn/svm/_base.py:947: ConvergenceWarning: Liblinear failed to converge, increase the number of iterations.\n",
      "  \"the number of iterations.\", ConvergenceWarning)\n",
      "/Users/carolcheng/anaconda3/lib/python3.7/site-packages/sklearn/svm/_base.py:947: ConvergenceWarning: Liblinear failed to converge, increase the number of iterations.\n",
      "  \"the number of iterations.\", ConvergenceWarning)\n",
      "/Users/carolcheng/anaconda3/lib/python3.7/site-packages/sklearn/svm/_base.py:947: ConvergenceWarning: Liblinear failed to converge, increase the number of iterations.\n",
      "  \"the number of iterations.\", ConvergenceWarning)\n",
      "/Users/carolcheng/anaconda3/lib/python3.7/site-packages/sklearn/svm/_base.py:947: ConvergenceWarning: Liblinear failed to converge, increase the number of iterations.\n",
      "  \"the number of iterations.\", ConvergenceWarning)\n",
      "/Users/carolcheng/anaconda3/lib/python3.7/site-packages/sklearn/svm/_base.py:947: ConvergenceWarning: Liblinear failed to converge, increase the number of iterations.\n",
      "  \"the number of iterations.\", ConvergenceWarning)\n",
      "/Users/carolcheng/anaconda3/lib/python3.7/site-packages/sklearn/svm/_base.py:947: ConvergenceWarning: Liblinear failed to converge, increase the number of iterations.\n",
      "  \"the number of iterations.\", ConvergenceWarning)\n",
      "/Users/carolcheng/anaconda3/lib/python3.7/site-packages/sklearn/svm/_base.py:947: ConvergenceWarning: Liblinear failed to converge, increase the number of iterations.\n",
      "  \"the number of iterations.\", ConvergenceWarning)\n",
      "/Users/carolcheng/anaconda3/lib/python3.7/site-packages/sklearn/svm/_base.py:947: ConvergenceWarning: Liblinear failed to converge, increase the number of iterations.\n",
      "  \"the number of iterations.\", ConvergenceWarning)\n",
      "/Users/carolcheng/anaconda3/lib/python3.7/site-packages/sklearn/svm/_base.py:947: ConvergenceWarning: Liblinear failed to converge, increase the number of iterations.\n",
      "  \"the number of iterations.\", ConvergenceWarning)\n",
      "/Users/carolcheng/anaconda3/lib/python3.7/site-packages/sklearn/svm/_base.py:947: ConvergenceWarning: Liblinear failed to converge, increase the number of iterations.\n",
      "  \"the number of iterations.\", ConvergenceWarning)\n",
      "/Users/carolcheng/anaconda3/lib/python3.7/site-packages/sklearn/svm/_base.py:947: ConvergenceWarning: Liblinear failed to converge, increase the number of iterations.\n",
      "  \"the number of iterations.\", ConvergenceWarning)\n",
      "/Users/carolcheng/anaconda3/lib/python3.7/site-packages/sklearn/svm/_base.py:947: ConvergenceWarning: Liblinear failed to converge, increase the number of iterations.\n",
      "  \"the number of iterations.\", ConvergenceWarning)\n",
      "/Users/carolcheng/anaconda3/lib/python3.7/site-packages/sklearn/svm/_base.py:947: ConvergenceWarning: Liblinear failed to converge, increase the number of iterations.\n",
      "  \"the number of iterations.\", ConvergenceWarning)\n",
      "/Users/carolcheng/anaconda3/lib/python3.7/site-packages/sklearn/svm/_base.py:947: ConvergenceWarning: Liblinear failed to converge, increase the number of iterations.\n",
      "  \"the number of iterations.\", ConvergenceWarning)\n",
      "/Users/carolcheng/anaconda3/lib/python3.7/site-packages/sklearn/svm/_base.py:947: ConvergenceWarning: Liblinear failed to converge, increase the number of iterations.\n",
      "  \"the number of iterations.\", ConvergenceWarning)\n",
      "[Parallel(n_jobs=1)]: Done  25 out of  25 | elapsed:    8.3s finished\n",
      "/Users/carolcheng/anaconda3/lib/python3.7/site-packages/sklearn/svm/_base.py:947: ConvergenceWarning: Liblinear failed to converge, increase the number of iterations.\n",
      "  \"the number of iterations.\", ConvergenceWarning)\n"
     ]
    },
    {
     "data": {
      "text/plain": [
       "GridSearchCV(cv=5, error_score=nan,\n",
       "             estimator=Pipeline(memory=None,\n",
       "                                steps=[('minmaxscaler',\n",
       "                                        MinMaxScaler(copy=True,\n",
       "                                                     feature_range=(0, 1))),\n",
       "                                       ('linearsvc',\n",
       "                                        LinearSVC(C=1.0, class_weight=None,\n",
       "                                                  dual=True, fit_intercept=True,\n",
       "                                                  intercept_scaling=1,\n",
       "                                                  loss='hinge', max_iter=2000,\n",
       "                                                  multi_class='ovr',\n",
       "                                                  penalty='l2',\n",
       "                                                  random_state=None, tol=0.0001,\n",
       "                                                  verbose=0))],\n",
       "                                verbose=False),\n",
       "             iid='deprecated', n_jobs=None,\n",
       "             param_grid={'linearsvc__C': [0.001, 0.01, 0.1, 0.5, 1.0],\n",
       "                         'linearsvc__dual': [True],\n",
       "                         'linearsvc__penalty': ['l2']},\n",
       "             pre_dispatch='2*n_jobs', refit=True, return_train_score=False,\n",
       "             scoring=None, verbose=1)"
      ]
     },
     "execution_count": 184,
     "metadata": {},
     "output_type": "execute_result"
    }
   ],
   "source": [
    "# Make a pipeline that include MinMax scaler and LinearSVC\n",
    "\n",
    "# Try loss='hinge' (LinearSVC works only when specific combination of params made)\n",
    "model_lsvc = LinearSVC(loss='hinge', max_iter=2000)\n",
    "pipe_lsvc = make_pipeline(MinMaxScaler(), model_lsvc)\n",
    "\n",
    "lsvc_params = {}\n",
    "#lsvc_params['MinMaxScaler'] = []\n",
    "lsvc_params['linearsvc__penalty'] = ['l2']\n",
    "lsvc_params['linearsvc__C'] = [0.001, 0.01, 0.1, 0.5, 1.0]\n",
    "lsvc_params['linearsvc__dual'] = [True]\n",
    "\n",
    "lsvc_gridsearch = GridSearchCV(pipe_lsvc, lsvc_params, cv=5, verbose=1)\n",
    "lsvc_gridsearch.fit(X_train_smote, y_train_smote)"
   ]
  },
  {
   "cell_type": "code",
   "execution_count": 185,
   "metadata": {},
   "outputs": [
    {
     "name": "stdout",
     "output_type": "stream",
     "text": [
      "{'linearsvc__C': 0.1, 'linearsvc__dual': True, 'linearsvc__penalty': 'l2'}\n",
      "0.9252951096121416\n"
     ]
    }
   ],
   "source": [
    "# Print out the set of hyperparameters that achieved the best score.\n",
    "print(lsvc_gridsearch.best_params_)\n",
    "\n",
    "# Print out the best score found in the search\n",
    "print(lsvc_gridsearch.best_score_)"
   ]
  },
  {
   "cell_type": "code",
   "execution_count": 66,
   "metadata": {},
   "outputs": [
    {
     "name": "stdout",
     "output_type": "stream",
     "text": [
      "linearSVC+smote+gridsearch AUC: 0.6136394637611434\n",
      "              precision    recall  f1-score   support\n",
      "\n",
      "           0       0.91      0.98      0.95      8896\n",
      "           1       0.65      0.24      0.36      1129\n",
      "\n",
      "    accuracy                           0.90     10025\n",
      "   macro avg       0.78      0.61      0.65     10025\n",
      "weighted avg       0.88      0.90      0.88     10025\n",
      "\n"
     ]
    },
    {
     "name": "stderr",
     "output_type": "stream",
     "text": [
      "/Users/carolcheng/anaconda3/lib/python3.7/site-packages/sklearn/svm/_base.py:947: ConvergenceWarning: Liblinear failed to converge, increase the number of iterations.\n",
      "  \"the number of iterations.\", ConvergenceWarning)\n"
     ]
    }
   ],
   "source": [
    "# Use the best estimator to make prediction\n",
    "\n",
    "model_lsvc = LinearSVC(C=0.1, dual=True, loss='hinge', penalty='l2', max_iter=3000)\n",
    "pipe_lsvc = make_pipeline(MinMaxScaler(), model_lsvc)\n",
    "pipe_lsvc.fit(X_train_smote, y_train_smote)\n",
    "pred_lsvc = pipe_lsvc.predict(X_test)\n",
    "\n",
    "print('linearSVC+smote+gridsearch AUC:', roc_auc_score(y_test, pred_lsvc))\n",
    "print(classification_report(y_test, pred_lsvc))"
   ]
  },
  {
   "cell_type": "code",
   "execution_count": 187,
   "metadata": {},
   "outputs": [
    {
     "name": "stdout",
     "output_type": "stream",
     "text": [
      "Fitting 5 folds for each of 14 candidates, totalling 70 fits\n"
     ]
    },
    {
     "name": "stderr",
     "output_type": "stream",
     "text": [
      "[Parallel(n_jobs=1)]: Using backend SequentialBackend with 1 concurrent workers.\n",
      "[Parallel(n_jobs=1)]: Done  70 out of  70 | elapsed:   24.6s finished\n"
     ]
    },
    {
     "data": {
      "text/plain": [
       "GridSearchCV(cv=5, error_score=nan,\n",
       "             estimator=Pipeline(memory=None,\n",
       "                                steps=[('minmaxscaler',\n",
       "                                        MinMaxScaler(copy=True,\n",
       "                                                     feature_range=(0, 1))),\n",
       "                                       ('linearsvc',\n",
       "                                        LinearSVC(C=1.0, class_weight=None,\n",
       "                                                  dual=True, fit_intercept=True,\n",
       "                                                  intercept_scaling=1,\n",
       "                                                  loss='squared_hinge',\n",
       "                                                  max_iter=1000,\n",
       "                                                  multi_class='ovr',\n",
       "                                                  penalty='l2',\n",
       "                                                  random_state=None, tol=0.0001,\n",
       "                                                  verbose=0))],\n",
       "                                verbose=False),\n",
       "             iid='deprecated', n_jobs=None,\n",
       "             param_grid={'linearsvc__C': [0.001, 0.01, 0.1, 0.3, 0.5, 0.8, 1.0],\n",
       "                         'linearsvc__dual': [True, False],\n",
       "                         'linearsvc__penalty': ['l2']},\n",
       "             pre_dispatch='2*n_jobs', refit=True, return_train_score=False,\n",
       "             scoring=None, verbose=1)"
      ]
     },
     "execution_count": 187,
     "metadata": {},
     "output_type": "execute_result"
    }
   ],
   "source": [
    "# Try loss='squared_hinge'\n",
    "model_lsvc = LinearSVC(loss='squared_hinge')\n",
    "pipe_lsvc = make_pipeline(MinMaxScaler(), model_lsvc)\n",
    "\n",
    "lsvc_params = {}\n",
    "#lsvc_params['MinMaxScaler'] = []\n",
    "lsvc_params['linearsvc__penalty'] = ['l2']\n",
    "lsvc_params['linearsvc__C'] = [0.001, 0.01, 0.1, 0.3, 0.5, 0.8, 1.0]\n",
    "lsvc_params['linearsvc__dual'] = [True, False]\n",
    "\n",
    "lsvc_gridsearch = GridSearchCV(pipe_lsvc, lsvc_params, cv=5, verbose=1)\n",
    "lsvc_gridsearch.fit(X_train_smote, y_train_smote)"
   ]
  },
  {
   "cell_type": "code",
   "execution_count": 188,
   "metadata": {},
   "outputs": [
    {
     "name": "stdout",
     "output_type": "stream",
     "text": [
      "{'linearsvc__C': 0.01, 'linearsvc__dual': True, 'linearsvc__penalty': 'l2'}\n",
      "0.9239460370994941\n"
     ]
    }
   ],
   "source": [
    "# Print out the set of hyperparameters that achieved the best score.\n",
    "print(lsvc_gridsearch.best_params_)\n",
    "\n",
    "# Print out the best score found in the search\n",
    "print(lsvc_gridsearch.best_score_)"
   ]
  },
  {
   "cell_type": "code",
   "execution_count": 67,
   "metadata": {},
   "outputs": [
    {
     "name": "stdout",
     "output_type": "stream",
     "text": [
      "linearSVC+smote+gridsearch AUC: 0.6518115943471972\n",
      "              precision    recall  f1-score   support\n",
      "\n",
      "           0       0.92      0.98      0.95      8896\n",
      "           1       0.68      0.32      0.44      1129\n",
      "\n",
      "    accuracy                           0.91     10025\n",
      "   macro avg       0.80      0.65      0.69     10025\n",
      "weighted avg       0.89      0.91      0.89     10025\n",
      "\n"
     ]
    }
   ],
   "source": [
    "model_lsvc = LinearSVC(C=0.01, dual=True, loss='squared_hinge', penalty='l2', max_iter=3000)\n",
    "pipe_lsvc = make_pipeline(MinMaxScaler(), model_lsvc)\n",
    "pipe_lsvc.fit(X_train_smote, y_train_smote)\n",
    "pred_lsvc = pipe_lsvc.predict(X_test)\n",
    "\n",
    "print('linearSVC+smote+gridsearch AUC:', roc_auc_score(y_test, pred_lsvc))\n",
    "print(classification_report(y_test, pred_lsvc))"
   ]
  },
  {
   "cell_type": "code",
   "execution_count": 68,
   "metadata": {},
   "outputs": [],
   "source": [
    "# The performance of LinearSVC is not ideal."
   ]
  },
  {
   "cell_type": "markdown",
   "metadata": {},
   "source": [
    "#### 3.3.3 RBFSampler + SGDClassifier"
   ]
  },
  {
   "cell_type": "code",
   "execution_count": 69,
   "metadata": {},
   "outputs": [],
   "source": [
    "from sklearn.linear_model import SGDClassifier\n",
    "from sklearn.kernel_approximation import RBFSampler"
   ]
  },
  {
   "cell_type": "code",
   "execution_count": 200,
   "metadata": {},
   "outputs": [
    {
     "name": "stdout",
     "output_type": "stream",
     "text": [
      "Fitting 5 folds for each of 24 candidates, totalling 120 fits\n"
     ]
    },
    {
     "name": "stderr",
     "output_type": "stream",
     "text": [
      "[Parallel(n_jobs=1)]: Using backend SequentialBackend with 1 concurrent workers.\n",
      "/Users/carolcheng/anaconda3/lib/python3.7/site-packages/sklearn/linear_model/_stochastic_gradient.py:557: ConvergenceWarning: Maximum number of iteration reached before convergence. Consider increasing max_iter to improve the fit.\n",
      "  ConvergenceWarning)\n",
      "/Users/carolcheng/anaconda3/lib/python3.7/site-packages/sklearn/linear_model/_stochastic_gradient.py:557: ConvergenceWarning: Maximum number of iteration reached before convergence. Consider increasing max_iter to improve the fit.\n",
      "  ConvergenceWarning)\n",
      "/Users/carolcheng/anaconda3/lib/python3.7/site-packages/sklearn/linear_model/_stochastic_gradient.py:557: ConvergenceWarning: Maximum number of iteration reached before convergence. Consider increasing max_iter to improve the fit.\n",
      "  ConvergenceWarning)\n",
      "/Users/carolcheng/anaconda3/lib/python3.7/site-packages/sklearn/linear_model/_stochastic_gradient.py:557: ConvergenceWarning: Maximum number of iteration reached before convergence. Consider increasing max_iter to improve the fit.\n",
      "  ConvergenceWarning)\n",
      "/Users/carolcheng/anaconda3/lib/python3.7/site-packages/sklearn/linear_model/_stochastic_gradient.py:557: ConvergenceWarning: Maximum number of iteration reached before convergence. Consider increasing max_iter to improve the fit.\n",
      "  ConvergenceWarning)\n",
      "/Users/carolcheng/anaconda3/lib/python3.7/site-packages/sklearn/linear_model/_stochastic_gradient.py:557: ConvergenceWarning: Maximum number of iteration reached before convergence. Consider increasing max_iter to improve the fit.\n",
      "  ConvergenceWarning)\n",
      "/Users/carolcheng/anaconda3/lib/python3.7/site-packages/sklearn/linear_model/_stochastic_gradient.py:557: ConvergenceWarning: Maximum number of iteration reached before convergence. Consider increasing max_iter to improve the fit.\n",
      "  ConvergenceWarning)\n",
      "/Users/carolcheng/anaconda3/lib/python3.7/site-packages/sklearn/linear_model/_stochastic_gradient.py:557: ConvergenceWarning: Maximum number of iteration reached before convergence. Consider increasing max_iter to improve the fit.\n",
      "  ConvergenceWarning)\n",
      "/Users/carolcheng/anaconda3/lib/python3.7/site-packages/sklearn/linear_model/_stochastic_gradient.py:557: ConvergenceWarning: Maximum number of iteration reached before convergence. Consider increasing max_iter to improve the fit.\n",
      "  ConvergenceWarning)\n",
      "/Users/carolcheng/anaconda3/lib/python3.7/site-packages/sklearn/linear_model/_stochastic_gradient.py:557: ConvergenceWarning: Maximum number of iteration reached before convergence. Consider increasing max_iter to improve the fit.\n",
      "  ConvergenceWarning)\n",
      "/Users/carolcheng/anaconda3/lib/python3.7/site-packages/sklearn/linear_model/_stochastic_gradient.py:557: ConvergenceWarning: Maximum number of iteration reached before convergence. Consider increasing max_iter to improve the fit.\n",
      "  ConvergenceWarning)\n",
      "/Users/carolcheng/anaconda3/lib/python3.7/site-packages/sklearn/linear_model/_stochastic_gradient.py:557: ConvergenceWarning: Maximum number of iteration reached before convergence. Consider increasing max_iter to improve the fit.\n",
      "  ConvergenceWarning)\n",
      "/Users/carolcheng/anaconda3/lib/python3.7/site-packages/sklearn/linear_model/_stochastic_gradient.py:557: ConvergenceWarning: Maximum number of iteration reached before convergence. Consider increasing max_iter to improve the fit.\n",
      "  ConvergenceWarning)\n",
      "/Users/carolcheng/anaconda3/lib/python3.7/site-packages/sklearn/linear_model/_stochastic_gradient.py:557: ConvergenceWarning: Maximum number of iteration reached before convergence. Consider increasing max_iter to improve the fit.\n",
      "  ConvergenceWarning)\n",
      "/Users/carolcheng/anaconda3/lib/python3.7/site-packages/sklearn/linear_model/_stochastic_gradient.py:557: ConvergenceWarning: Maximum number of iteration reached before convergence. Consider increasing max_iter to improve the fit.\n",
      "  ConvergenceWarning)\n",
      "/Users/carolcheng/anaconda3/lib/python3.7/site-packages/sklearn/linear_model/_stochastic_gradient.py:557: ConvergenceWarning: Maximum number of iteration reached before convergence. Consider increasing max_iter to improve the fit.\n",
      "  ConvergenceWarning)\n",
      "/Users/carolcheng/anaconda3/lib/python3.7/site-packages/sklearn/linear_model/_stochastic_gradient.py:557: ConvergenceWarning: Maximum number of iteration reached before convergence. Consider increasing max_iter to improve the fit.\n",
      "  ConvergenceWarning)\n",
      "/Users/carolcheng/anaconda3/lib/python3.7/site-packages/sklearn/linear_model/_stochastic_gradient.py:557: ConvergenceWarning: Maximum number of iteration reached before convergence. Consider increasing max_iter to improve the fit.\n",
      "  ConvergenceWarning)\n",
      "/Users/carolcheng/anaconda3/lib/python3.7/site-packages/sklearn/linear_model/_stochastic_gradient.py:557: ConvergenceWarning: Maximum number of iteration reached before convergence. Consider increasing max_iter to improve the fit.\n",
      "  ConvergenceWarning)\n",
      "/Users/carolcheng/anaconda3/lib/python3.7/site-packages/sklearn/linear_model/_stochastic_gradient.py:557: ConvergenceWarning: Maximum number of iteration reached before convergence. Consider increasing max_iter to improve the fit.\n",
      "  ConvergenceWarning)\n",
      "/Users/carolcheng/anaconda3/lib/python3.7/site-packages/sklearn/linear_model/_stochastic_gradient.py:557: ConvergenceWarning: Maximum number of iteration reached before convergence. Consider increasing max_iter to improve the fit.\n",
      "  ConvergenceWarning)\n",
      "/Users/carolcheng/anaconda3/lib/python3.7/site-packages/sklearn/linear_model/_stochastic_gradient.py:557: ConvergenceWarning: Maximum number of iteration reached before convergence. Consider increasing max_iter to improve the fit.\n",
      "  ConvergenceWarning)\n",
      "/Users/carolcheng/anaconda3/lib/python3.7/site-packages/sklearn/linear_model/_stochastic_gradient.py:557: ConvergenceWarning: Maximum number of iteration reached before convergence. Consider increasing max_iter to improve the fit.\n",
      "  ConvergenceWarning)\n",
      "/Users/carolcheng/anaconda3/lib/python3.7/site-packages/sklearn/linear_model/_stochastic_gradient.py:557: ConvergenceWarning: Maximum number of iteration reached before convergence. Consider increasing max_iter to improve the fit.\n",
      "  ConvergenceWarning)\n",
      "/Users/carolcheng/anaconda3/lib/python3.7/site-packages/sklearn/linear_model/_stochastic_gradient.py:557: ConvergenceWarning: Maximum number of iteration reached before convergence. Consider increasing max_iter to improve the fit.\n",
      "  ConvergenceWarning)\n",
      "/Users/carolcheng/anaconda3/lib/python3.7/site-packages/sklearn/linear_model/_stochastic_gradient.py:557: ConvergenceWarning: Maximum number of iteration reached before convergence. Consider increasing max_iter to improve the fit.\n",
      "  ConvergenceWarning)\n",
      "/Users/carolcheng/anaconda3/lib/python3.7/site-packages/sklearn/linear_model/_stochastic_gradient.py:557: ConvergenceWarning: Maximum number of iteration reached before convergence. Consider increasing max_iter to improve the fit.\n",
      "  ConvergenceWarning)\n",
      "/Users/carolcheng/anaconda3/lib/python3.7/site-packages/sklearn/linear_model/_stochastic_gradient.py:557: ConvergenceWarning: Maximum number of iteration reached before convergence. Consider increasing max_iter to improve the fit.\n",
      "  ConvergenceWarning)\n",
      "/Users/carolcheng/anaconda3/lib/python3.7/site-packages/sklearn/linear_model/_stochastic_gradient.py:557: ConvergenceWarning: Maximum number of iteration reached before convergence. Consider increasing max_iter to improve the fit.\n",
      "  ConvergenceWarning)\n",
      "[Parallel(n_jobs=1)]: Done 120 out of 120 | elapsed:  4.4min finished\n"
     ]
    },
    {
     "data": {
      "text/plain": [
       "GridSearchCV(cv=5, error_score=nan,\n",
       "             estimator=Pipeline(memory=None,\n",
       "                                steps=[('rbfsampler',\n",
       "                                        RBFSampler(gamma=1.0, n_components=100,\n",
       "                                                   random_state=None)),\n",
       "                                       ('sgdclassifier',\n",
       "                                        SGDClassifier(alpha=0.0001,\n",
       "                                                      average=False,\n",
       "                                                      class_weight='balanced',\n",
       "                                                      early_stopping=False,\n",
       "                                                      epsilon=0.1, eta0=0.0,\n",
       "                                                      fit_intercept=True,\n",
       "                                                      l1_ratio=0.15,\n",
       "                                                      learning_rate='optimal',\n",
       "                                                      loss='squared_hinge',\n",
       "                                                      max_...\n",
       "                                                      random_state=None,\n",
       "                                                      shuffle=True, tol=0.001,\n",
       "                                                      validation_fraction=0.1,\n",
       "                                                      verbose=0,\n",
       "                                                      warm_start=False))],\n",
       "                                verbose=False),\n",
       "             iid='deprecated', n_jobs=None,\n",
       "             param_grid={'rbfsampler__gamma': [0.1, 0.5, 1],\n",
       "                         'sgdclassifier__alpha': [0.0001, 0.001, 0.01, 0.1],\n",
       "                         'sgdclassifier__penalty': ['l1', 'l2']},\n",
       "             pre_dispatch='2*n_jobs', refit=True, return_train_score=False,\n",
       "             scoring=None, verbose=1)"
      ]
     },
     "execution_count": 200,
     "metadata": {},
     "output_type": "execute_result"
    }
   ],
   "source": [
    "model_sgdc = SGDClassifier(class_weight='balanced', loss='squared_hinge', max_iter=300)\n",
    "pipe_sgdc = make_pipeline(RBFSampler(), model_sgdc)\n",
    "\n",
    "sgdc_params = {}\n",
    "sgdc_params['rbfsampler__gamma'] = [0.1, 0.5, 1]\n",
    "sgdc_params['sgdclassifier__penalty'] = ['l1', 'l2']\n",
    "sgdc_params['sgdclassifier__alpha'] = [0.0001, 0.001, 0.01, 0.1]\n",
    "\n",
    "sgdc_gridsearch = GridSearchCV(pipe_sgdc, sgdc_params, cv=5, verbose=1)\n",
    "sgdc_gridsearch.fit(X_train_smote, y_train_smote)"
   ]
  },
  {
   "cell_type": "code",
   "execution_count": 201,
   "metadata": {},
   "outputs": [
    {
     "name": "stdout",
     "output_type": "stream",
     "text": [
      "{'rbfsampler__gamma': 0.1, 'sgdclassifier__alpha': 0.001, 'sgdclassifier__penalty': 'l1'}\n",
      "0.5333708075697958\n"
     ]
    }
   ],
   "source": [
    "# Print out the set of hyperparameters that achieved the best score.\n",
    "print(sgdc_gridsearch.best_params_)\n",
    "\n",
    "# Print out the best score found in the search\n",
    "print(sgdc_gridsearch.best_score_)"
   ]
  },
  {
   "cell_type": "code",
   "execution_count": 70,
   "metadata": {},
   "outputs": [
    {
     "name": "stdout",
     "output_type": "stream",
     "text": [
      "SGDClassifier+smote+rbfsampler+gridsearch accuracy AUC: 0.7208223180091887\n",
      "              precision    recall  f1-score   support\n",
      "\n",
      "           0       0.95      0.81      0.87      8896\n",
      "           1       0.30      0.63      0.40      1129\n",
      "\n",
      "    accuracy                           0.79     10025\n",
      "   macro avg       0.62      0.72      0.64     10025\n",
      "weighted avg       0.87      0.79      0.82     10025\n",
      "\n"
     ]
    },
    {
     "name": "stderr",
     "output_type": "stream",
     "text": [
      "/Users/carolcheng/anaconda3/lib/python3.7/site-packages/sklearn/linear_model/_stochastic_gradient.py:557: ConvergenceWarning: Maximum number of iteration reached before convergence. Consider increasing max_iter to improve the fit.\n",
      "  ConvergenceWarning)\n"
     ]
    }
   ],
   "source": [
    "# Train and predict with gridsearch model\n",
    "model_sgdc = SGDClassifier(class_weight='balanced', loss='squared_hinge', alpha=0.001, penalty='l1', max_iter=3000)\n",
    "pipe_sgdc = make_pipeline(RBFSampler(gamma=0.1), model_sgdc)\n",
    "pipe_sgdc.fit(Xs_train_smote, ys_train_smote)\n",
    "pred_sgdc = pipe_sgdc.predict(Xs_test)\n",
    "\n",
    "print('SGDClassifier+smote+rbfsampler+gridsearch accuracy AUC:', roc_auc_score(ys_test, pred_sgdc))\n",
    "print(classification_report(ys_test, pred_sgdc))"
   ]
  },
  {
   "cell_type": "code",
   "execution_count": 71,
   "metadata": {},
   "outputs": [],
   "source": [
    "# SVM looks perform poorly for this dataset. No SVM model will be chosen for the classification for this dataset."
   ]
  },
  {
   "cell_type": "markdown",
   "metadata": {},
   "source": [
    "### 3.4 Use TPOT to find out the pipeline with the best perfromance"
   ]
  },
  {
   "cell_type": "code",
   "execution_count": 58,
   "metadata": {},
   "outputs": [
    {
     "data": {
      "application/vnd.jupyter.widget-view+json": {
       "model_id": "",
       "version_major": 2,
       "version_minor": 0
      },
      "text/plain": [
       "HBox(children=(FloatProgress(value=0.0, description='Optimization Progress', max=600.0, style=ProgressStyle(de…"
      ]
     },
     "metadata": {},
     "output_type": "display_data"
    },
    {
     "name": "stdout",
     "output_type": "stream",
     "text": [
      "Generation 1 - Current best internal CV score: 0.914042396502923\n",
      "Generation 2 - Current best internal CV score: 0.9142419530378133\n",
      "Generation 3 - Current best internal CV score: 0.9142419530378133\n",
      "Generation 4 - Current best internal CV score: 0.9142419530378133\n",
      "Generation 5 - Current best internal CV score: 0.9142419530378133\n",
      "\n",
      "Best pipeline: DecisionTreeClassifier(BernoulliNB(input_matrix, alpha=100.0, fit_prior=False), criterion=gini, max_depth=6, min_samples_leaf=20, min_samples_split=4)\n",
      "0.9184039900249377\n"
     ]
    }
   ],
   "source": [
    "from tpot import TPOTClassifier\n",
    "from sklearn.model_selection import train_test_split\n",
    "from tpot.config import classifier_config_dict_light, classifier_config_dict, classifier_config_sparse\n",
    "\n",
    "\n",
    "X_train, X_test, y_train, y_test = train_test_split(X, y, train_size=0.75, test_size=0.25, random_state=42,stratify=y)\n",
    "tpot = TPOTClassifier(verbosity=2, random_state=42, config_dict=classifier_config_dict_light\\\n",
    "                      ,max_eval_time_mins=0.4, generations=5, population_size=100\\\n",
    "                      ,n_jobs=-1)\n",
    "tpot.fit(X_train, y_train)\n",
    "print(tpot.score(X_test, y_test))\n",
    "tpot.export('tpot_digits_pipeline.py')"
   ]
  },
  {
   "cell_type": "code",
   "execution_count": 72,
   "metadata": {},
   "outputs": [],
   "source": [
    "#Best pipeline: RandomForestClassifier(SelectFwe(input_matrix, alpha=0.043000000000000003), bootstrap=True, criterion=gini, max_features=0.6000000000000001, min_samples_leaf=18, min_samples_split=14, n_estimators=100)\n",
    "# 0.9203990024937656 (max_eval_time_mins=0.4, generations=5, population_size=30)\n",
    "\n",
    "#Best pipeline: DecisionTreeClassifier(BernoulliNB(BernoulliNB(input_matrix, alpha=10.0, fit_prior=True), alpha=0.01, fit_prior=False), criterion=gini, max_depth=6, min_samples_leaf=14, min_samples_split=8)\n",
    "# 0.9188029925187032 (max_eval_time_mins=0.8, generations=5, population_size=30)\n",
    "\n",
    "#Best pipeline: DecisionTreeClassifier(BernoulliNB(ZeroCount(input_matrix), alpha=1.0, fit_prior=True), criterion=gini, max_depth=6, min_samples_leaf=15, min_samples_split=8)\n",
    "# 0.9190024937655861 (max_eval_time_mins=0.6, generations=5, population_size=50)\n",
    "\n",
    "#Best pipeline: DecisionTreeClassifier(BernoulliNB(input_matrix, alpha=100.0, fit_prior=False), criterion=gini, max_depth=6, min_samples_leaf=20, min_samples_split=4)\n",
    "# 0.9184039900249377 (max_eval_time_mins=0.5, generations=5, population_size=100)\n",
    "\n",
    "#Best pipeline: DecisionTreeClassifier(BernoulliNB(input_matrix, alpha=100.0, fit_prior=False), criterion=gini, max_depth=6, min_samples_leaf=20, min_samples_split=4)\n",
    "# 0.9184039900249377 (max_eval_time_mins=0.4, generations=5, population_size=100)"
   ]
  },
  {
   "cell_type": "markdown",
   "metadata": {},
   "source": [
    "### 3.5 Pipeline with RandomForest"
   ]
  },
  {
   "cell_type": "code",
   "execution_count": 19,
   "metadata": {},
   "outputs": [
    {
     "name": "stdout",
     "output_type": "stream",
     "text": [
      "RandomForest pipeline AUC: 0.8840908285329221\n",
      "              precision    recall  f1-score   support\n",
      "\n",
      "           0       0.98      0.89      0.93      8896\n",
      "           1       0.51      0.88      0.64      1129\n",
      "\n",
      "    accuracy                           0.89     10025\n",
      "   macro avg       0.74      0.88      0.79     10025\n",
      "weighted avg       0.93      0.89      0.90     10025\n",
      "\n"
     ]
    }
   ],
   "source": [
    "# Fit the pipeline that output from TPOT and inspect the performance\n",
    "from sklearn.feature_selection import SelectFwe\n",
    "model_rf2 = RandomForestClassifier(bootstrap=True, criterion='gini', max_features=0.60, \n",
    "                                   min_samples_leaf=18, min_samples_split=14, n_estimators=100)\n",
    "pipe_rf2 = make_pipeline(SelectFwe(alpha=0.043), model_rf2)\n",
    "pipe_rf2.fit(Xs_train_smote, ys_train_smote)\n",
    "pred_rf2 = pipe_rf2.predict(Xs_test)\n",
    "\n",
    "print('RandomForest pipeline AUC:', roc_auc_score(ys_test, pred_rf2))\n",
    "print(classification_report(ys_test, pred_rf2))"
   ]
  },
  {
   "cell_type": "code",
   "execution_count": 74,
   "metadata": {},
   "outputs": [],
   "source": [
    "# This pipeline from TPOT is so far the one that performs the best."
   ]
  },
  {
   "cell_type": "markdown",
   "metadata": {},
   "source": [
    "### 3.6 GradientBoostingClassifier"
   ]
  },
  {
   "cell_type": "code",
   "execution_count": 75,
   "metadata": {},
   "outputs": [
    {
     "name": "stdout",
     "output_type": "stream",
     "text": [
      "GradientBoostingClassifier AUC: 0.8126458642651866\n",
      "              precision    recall  f1-score   support\n",
      "\n",
      "           0       0.96      0.92      0.94      8896\n",
      "           1       0.54      0.70      0.61      1129\n",
      "\n",
      "    accuracy                           0.90     10025\n",
      "   macro avg       0.75      0.81      0.78     10025\n",
      "weighted avg       0.91      0.90      0.90     10025\n",
      "\n"
     ]
    }
   ],
   "source": [
    "# GradientBoostingClassifier\n",
    "model_gbc = GradientBoostingClassifier(n_estimators=100, learning_rate=1.0, max_depth=1, random_state=0)\n",
    "model_gbc.fit(Xs_train_smote, ys_train_smote)\n",
    "pred_gbc = model_gbc.predict(Xs_test)\n",
    "\n",
    "print('GradientBoostingClassifier AUC:', roc_auc_score(ys_test, pred_gbc))\n",
    "print(classification_report(ys_test, pred_gbc))"
   ]
  },
  {
   "cell_type": "code",
   "execution_count": 212,
   "metadata": {},
   "outputs": [
    {
     "name": "stdout",
     "output_type": "stream",
     "text": [
      "Fitting 5 folds for each of 81 candidates, totalling 405 fits\n"
     ]
    },
    {
     "name": "stderr",
     "output_type": "stream",
     "text": [
      "[Parallel(n_jobs=1)]: Using backend SequentialBackend with 1 concurrent workers.\n"
     ]
    },
    {
     "ename": "ValueError",
     "evalue": "Invalid parameter granientboostingclassifier for estimator Pipeline(memory=None,\n         steps=[('selectfwe',\n                 SelectFwe(alpha=0.05,\n                           score_func=<function f_classif at 0x1a279a7cb0>)),\n                ('gradientboostingclassifier',\n                 GradientBoostingClassifier(ccp_alpha=0.0,\n                                            criterion='friedman_mse', init=None,\n                                            learning_rate=0.1, loss='deviance',\n                                            max_depth=3, max_features=None,\n                                            max_leaf_nodes=None,\n                                            min_impurity_decrease=0.0,\n                                            min_impurity_split=None,\n                                            min_samples_leaf=1,\n                                            min_samples_split=2,\n                                            min_weight_fraction_leaf=0.0,\n                                            n_estimators=100,\n                                            n_iter_no_change=None,\n                                            presort='deprecated',\n                                            random_state=None, subsample=1.0,\n                                            tol=0.0001, validation_fraction=0.1,\n                                            verbose=0, warm_start=False))],\n         verbose=False). Check the list of available parameters with `estimator.get_params().keys()`.",
     "output_type": "error",
     "traceback": [
      "\u001b[0;31m---------------------------------------------------------------------------\u001b[0m",
      "\u001b[0;31mValueError\u001b[0m                                Traceback (most recent call last)",
      "\u001b[0;32m<ipython-input-212-fd1c6ead94c4>\u001b[0m in \u001b[0;36m<module>\u001b[0;34m\u001b[0m\n\u001b[1;32m     12\u001b[0m \u001b[0;34m\u001b[0m\u001b[0m\n\u001b[1;32m     13\u001b[0m \u001b[0mgbc_gridsearch\u001b[0m \u001b[0;34m=\u001b[0m \u001b[0mGridSearchCV\u001b[0m\u001b[0;34m(\u001b[0m\u001b[0mpipe_gbc\u001b[0m\u001b[0;34m,\u001b[0m \u001b[0mgbc_params\u001b[0m\u001b[0;34m,\u001b[0m \u001b[0mcv\u001b[0m\u001b[0;34m=\u001b[0m\u001b[0;36m5\u001b[0m\u001b[0;34m,\u001b[0m \u001b[0mverbose\u001b[0m\u001b[0;34m=\u001b[0m\u001b[0;36m1\u001b[0m\u001b[0;34m)\u001b[0m\u001b[0;34m\u001b[0m\u001b[0;34m\u001b[0m\u001b[0m\n\u001b[0;32m---> 14\u001b[0;31m \u001b[0mgbc_gridsearch\u001b[0m\u001b[0;34m.\u001b[0m\u001b[0mfit\u001b[0m\u001b[0;34m(\u001b[0m\u001b[0mXs_train_smote\u001b[0m\u001b[0;34m,\u001b[0m \u001b[0mys_train_smote\u001b[0m\u001b[0;34m)\u001b[0m\u001b[0;34m\u001b[0m\u001b[0;34m\u001b[0m\u001b[0m\n\u001b[0m",
      "\u001b[0;32m~/anaconda3/lib/python3.7/site-packages/sklearn/model_selection/_search.py\u001b[0m in \u001b[0;36mfit\u001b[0;34m(self, X, y, groups, **fit_params)\u001b[0m\n\u001b[1;32m    708\u001b[0m                 \u001b[0;32mreturn\u001b[0m \u001b[0mresults\u001b[0m\u001b[0;34m\u001b[0m\u001b[0;34m\u001b[0m\u001b[0m\n\u001b[1;32m    709\u001b[0m \u001b[0;34m\u001b[0m\u001b[0m\n\u001b[0;32m--> 710\u001b[0;31m             \u001b[0mself\u001b[0m\u001b[0;34m.\u001b[0m\u001b[0m_run_search\u001b[0m\u001b[0;34m(\u001b[0m\u001b[0mevaluate_candidates\u001b[0m\u001b[0;34m)\u001b[0m\u001b[0;34m\u001b[0m\u001b[0;34m\u001b[0m\u001b[0m\n\u001b[0m\u001b[1;32m    711\u001b[0m \u001b[0;34m\u001b[0m\u001b[0m\n\u001b[1;32m    712\u001b[0m         \u001b[0;31m# For multi-metric evaluation, store the best_index_, best_params_ and\u001b[0m\u001b[0;34m\u001b[0m\u001b[0;34m\u001b[0m\u001b[0;34m\u001b[0m\u001b[0m\n",
      "\u001b[0;32m~/anaconda3/lib/python3.7/site-packages/sklearn/model_selection/_search.py\u001b[0m in \u001b[0;36m_run_search\u001b[0;34m(self, evaluate_candidates)\u001b[0m\n\u001b[1;32m   1149\u001b[0m     \u001b[0;32mdef\u001b[0m \u001b[0m_run_search\u001b[0m\u001b[0;34m(\u001b[0m\u001b[0mself\u001b[0m\u001b[0;34m,\u001b[0m \u001b[0mevaluate_candidates\u001b[0m\u001b[0;34m)\u001b[0m\u001b[0;34m:\u001b[0m\u001b[0;34m\u001b[0m\u001b[0;34m\u001b[0m\u001b[0m\n\u001b[1;32m   1150\u001b[0m         \u001b[0;34m\"\"\"Search all candidates in param_grid\"\"\"\u001b[0m\u001b[0;34m\u001b[0m\u001b[0;34m\u001b[0m\u001b[0m\n\u001b[0;32m-> 1151\u001b[0;31m         \u001b[0mevaluate_candidates\u001b[0m\u001b[0;34m(\u001b[0m\u001b[0mParameterGrid\u001b[0m\u001b[0;34m(\u001b[0m\u001b[0mself\u001b[0m\u001b[0;34m.\u001b[0m\u001b[0mparam_grid\u001b[0m\u001b[0;34m)\u001b[0m\u001b[0;34m)\u001b[0m\u001b[0;34m\u001b[0m\u001b[0;34m\u001b[0m\u001b[0m\n\u001b[0m\u001b[1;32m   1152\u001b[0m \u001b[0;34m\u001b[0m\u001b[0m\n\u001b[1;32m   1153\u001b[0m \u001b[0;34m\u001b[0m\u001b[0m\n",
      "\u001b[0;32m~/anaconda3/lib/python3.7/site-packages/sklearn/model_selection/_search.py\u001b[0m in \u001b[0;36mevaluate_candidates\u001b[0;34m(candidate_params)\u001b[0m\n\u001b[1;32m    687\u001b[0m                                \u001b[0;32mfor\u001b[0m \u001b[0mparameters\u001b[0m\u001b[0;34m,\u001b[0m \u001b[0;34m(\u001b[0m\u001b[0mtrain\u001b[0m\u001b[0;34m,\u001b[0m \u001b[0mtest\u001b[0m\u001b[0;34m)\u001b[0m\u001b[0;34m\u001b[0m\u001b[0;34m\u001b[0m\u001b[0m\n\u001b[1;32m    688\u001b[0m                                in product(candidate_params,\n\u001b[0;32m--> 689\u001b[0;31m                                           cv.split(X, y, groups)))\n\u001b[0m\u001b[1;32m    690\u001b[0m \u001b[0;34m\u001b[0m\u001b[0m\n\u001b[1;32m    691\u001b[0m                 \u001b[0;32mif\u001b[0m \u001b[0mlen\u001b[0m\u001b[0;34m(\u001b[0m\u001b[0mout\u001b[0m\u001b[0;34m)\u001b[0m \u001b[0;34m<\u001b[0m \u001b[0;36m1\u001b[0m\u001b[0;34m:\u001b[0m\u001b[0;34m\u001b[0m\u001b[0;34m\u001b[0m\u001b[0m\n",
      "\u001b[0;32m~/anaconda3/lib/python3.7/site-packages/joblib/parallel.py\u001b[0m in \u001b[0;36m__call__\u001b[0;34m(self, iterable)\u001b[0m\n\u001b[1;32m   1002\u001b[0m             \u001b[0;31m# remaining jobs.\u001b[0m\u001b[0;34m\u001b[0m\u001b[0;34m\u001b[0m\u001b[0;34m\u001b[0m\u001b[0m\n\u001b[1;32m   1003\u001b[0m             \u001b[0mself\u001b[0m\u001b[0;34m.\u001b[0m\u001b[0m_iterating\u001b[0m \u001b[0;34m=\u001b[0m \u001b[0;32mFalse\u001b[0m\u001b[0;34m\u001b[0m\u001b[0;34m\u001b[0m\u001b[0m\n\u001b[0;32m-> 1004\u001b[0;31m             \u001b[0;32mif\u001b[0m \u001b[0mself\u001b[0m\u001b[0;34m.\u001b[0m\u001b[0mdispatch_one_batch\u001b[0m\u001b[0;34m(\u001b[0m\u001b[0miterator\u001b[0m\u001b[0;34m)\u001b[0m\u001b[0;34m:\u001b[0m\u001b[0;34m\u001b[0m\u001b[0;34m\u001b[0m\u001b[0m\n\u001b[0m\u001b[1;32m   1005\u001b[0m                 \u001b[0mself\u001b[0m\u001b[0;34m.\u001b[0m\u001b[0m_iterating\u001b[0m \u001b[0;34m=\u001b[0m \u001b[0mself\u001b[0m\u001b[0;34m.\u001b[0m\u001b[0m_original_iterator\u001b[0m \u001b[0;32mis\u001b[0m \u001b[0;32mnot\u001b[0m \u001b[0;32mNone\u001b[0m\u001b[0;34m\u001b[0m\u001b[0;34m\u001b[0m\u001b[0m\n\u001b[1;32m   1006\u001b[0m \u001b[0;34m\u001b[0m\u001b[0m\n",
      "\u001b[0;32m~/anaconda3/lib/python3.7/site-packages/joblib/parallel.py\u001b[0m in \u001b[0;36mdispatch_one_batch\u001b[0;34m(self, iterator)\u001b[0m\n\u001b[1;32m    833\u001b[0m                 \u001b[0;32mreturn\u001b[0m \u001b[0;32mFalse\u001b[0m\u001b[0;34m\u001b[0m\u001b[0;34m\u001b[0m\u001b[0m\n\u001b[1;32m    834\u001b[0m             \u001b[0;32melse\u001b[0m\u001b[0;34m:\u001b[0m\u001b[0;34m\u001b[0m\u001b[0;34m\u001b[0m\u001b[0m\n\u001b[0;32m--> 835\u001b[0;31m                 \u001b[0mself\u001b[0m\u001b[0;34m.\u001b[0m\u001b[0m_dispatch\u001b[0m\u001b[0;34m(\u001b[0m\u001b[0mtasks\u001b[0m\u001b[0;34m)\u001b[0m\u001b[0;34m\u001b[0m\u001b[0;34m\u001b[0m\u001b[0m\n\u001b[0m\u001b[1;32m    836\u001b[0m                 \u001b[0;32mreturn\u001b[0m \u001b[0;32mTrue\u001b[0m\u001b[0;34m\u001b[0m\u001b[0;34m\u001b[0m\u001b[0m\n\u001b[1;32m    837\u001b[0m \u001b[0;34m\u001b[0m\u001b[0m\n",
      "\u001b[0;32m~/anaconda3/lib/python3.7/site-packages/joblib/parallel.py\u001b[0m in \u001b[0;36m_dispatch\u001b[0;34m(self, batch)\u001b[0m\n\u001b[1;32m    752\u001b[0m         \u001b[0;32mwith\u001b[0m \u001b[0mself\u001b[0m\u001b[0;34m.\u001b[0m\u001b[0m_lock\u001b[0m\u001b[0;34m:\u001b[0m\u001b[0;34m\u001b[0m\u001b[0;34m\u001b[0m\u001b[0m\n\u001b[1;32m    753\u001b[0m             \u001b[0mjob_idx\u001b[0m \u001b[0;34m=\u001b[0m \u001b[0mlen\u001b[0m\u001b[0;34m(\u001b[0m\u001b[0mself\u001b[0m\u001b[0;34m.\u001b[0m\u001b[0m_jobs\u001b[0m\u001b[0;34m)\u001b[0m\u001b[0;34m\u001b[0m\u001b[0;34m\u001b[0m\u001b[0m\n\u001b[0;32m--> 754\u001b[0;31m             \u001b[0mjob\u001b[0m \u001b[0;34m=\u001b[0m \u001b[0mself\u001b[0m\u001b[0;34m.\u001b[0m\u001b[0m_backend\u001b[0m\u001b[0;34m.\u001b[0m\u001b[0mapply_async\u001b[0m\u001b[0;34m(\u001b[0m\u001b[0mbatch\u001b[0m\u001b[0;34m,\u001b[0m \u001b[0mcallback\u001b[0m\u001b[0;34m=\u001b[0m\u001b[0mcb\u001b[0m\u001b[0;34m)\u001b[0m\u001b[0;34m\u001b[0m\u001b[0;34m\u001b[0m\u001b[0m\n\u001b[0m\u001b[1;32m    755\u001b[0m             \u001b[0;31m# A job can complete so quickly than its callback is\u001b[0m\u001b[0;34m\u001b[0m\u001b[0;34m\u001b[0m\u001b[0;34m\u001b[0m\u001b[0m\n\u001b[1;32m    756\u001b[0m             \u001b[0;31m# called before we get here, causing self._jobs to\u001b[0m\u001b[0;34m\u001b[0m\u001b[0;34m\u001b[0m\u001b[0;34m\u001b[0m\u001b[0m\n",
      "\u001b[0;32m~/anaconda3/lib/python3.7/site-packages/joblib/_parallel_backends.py\u001b[0m in \u001b[0;36mapply_async\u001b[0;34m(self, func, callback)\u001b[0m\n\u001b[1;32m    207\u001b[0m     \u001b[0;32mdef\u001b[0m \u001b[0mapply_async\u001b[0m\u001b[0;34m(\u001b[0m\u001b[0mself\u001b[0m\u001b[0;34m,\u001b[0m \u001b[0mfunc\u001b[0m\u001b[0;34m,\u001b[0m \u001b[0mcallback\u001b[0m\u001b[0;34m=\u001b[0m\u001b[0;32mNone\u001b[0m\u001b[0;34m)\u001b[0m\u001b[0;34m:\u001b[0m\u001b[0;34m\u001b[0m\u001b[0;34m\u001b[0m\u001b[0m\n\u001b[1;32m    208\u001b[0m         \u001b[0;34m\"\"\"Schedule a func to be run\"\"\"\u001b[0m\u001b[0;34m\u001b[0m\u001b[0;34m\u001b[0m\u001b[0m\n\u001b[0;32m--> 209\u001b[0;31m         \u001b[0mresult\u001b[0m \u001b[0;34m=\u001b[0m \u001b[0mImmediateResult\u001b[0m\u001b[0;34m(\u001b[0m\u001b[0mfunc\u001b[0m\u001b[0;34m)\u001b[0m\u001b[0;34m\u001b[0m\u001b[0;34m\u001b[0m\u001b[0m\n\u001b[0m\u001b[1;32m    210\u001b[0m         \u001b[0;32mif\u001b[0m \u001b[0mcallback\u001b[0m\u001b[0;34m:\u001b[0m\u001b[0;34m\u001b[0m\u001b[0;34m\u001b[0m\u001b[0m\n\u001b[1;32m    211\u001b[0m             \u001b[0mcallback\u001b[0m\u001b[0;34m(\u001b[0m\u001b[0mresult\u001b[0m\u001b[0;34m)\u001b[0m\u001b[0;34m\u001b[0m\u001b[0;34m\u001b[0m\u001b[0m\n",
      "\u001b[0;32m~/anaconda3/lib/python3.7/site-packages/joblib/_parallel_backends.py\u001b[0m in \u001b[0;36m__init__\u001b[0;34m(self, batch)\u001b[0m\n\u001b[1;32m    588\u001b[0m         \u001b[0;31m# Don't delay the application, to avoid keeping the input\u001b[0m\u001b[0;34m\u001b[0m\u001b[0;34m\u001b[0m\u001b[0;34m\u001b[0m\u001b[0m\n\u001b[1;32m    589\u001b[0m         \u001b[0;31m# arguments in memory\u001b[0m\u001b[0;34m\u001b[0m\u001b[0;34m\u001b[0m\u001b[0;34m\u001b[0m\u001b[0m\n\u001b[0;32m--> 590\u001b[0;31m         \u001b[0mself\u001b[0m\u001b[0;34m.\u001b[0m\u001b[0mresults\u001b[0m \u001b[0;34m=\u001b[0m \u001b[0mbatch\u001b[0m\u001b[0;34m(\u001b[0m\u001b[0;34m)\u001b[0m\u001b[0;34m\u001b[0m\u001b[0;34m\u001b[0m\u001b[0m\n\u001b[0m\u001b[1;32m    591\u001b[0m \u001b[0;34m\u001b[0m\u001b[0m\n\u001b[1;32m    592\u001b[0m     \u001b[0;32mdef\u001b[0m \u001b[0mget\u001b[0m\u001b[0;34m(\u001b[0m\u001b[0mself\u001b[0m\u001b[0;34m)\u001b[0m\u001b[0;34m:\u001b[0m\u001b[0;34m\u001b[0m\u001b[0;34m\u001b[0m\u001b[0m\n",
      "\u001b[0;32m~/anaconda3/lib/python3.7/site-packages/joblib/parallel.py\u001b[0m in \u001b[0;36m__call__\u001b[0;34m(self)\u001b[0m\n\u001b[1;32m    254\u001b[0m         \u001b[0;32mwith\u001b[0m \u001b[0mparallel_backend\u001b[0m\u001b[0;34m(\u001b[0m\u001b[0mself\u001b[0m\u001b[0;34m.\u001b[0m\u001b[0m_backend\u001b[0m\u001b[0;34m,\u001b[0m \u001b[0mn_jobs\u001b[0m\u001b[0;34m=\u001b[0m\u001b[0mself\u001b[0m\u001b[0;34m.\u001b[0m\u001b[0m_n_jobs\u001b[0m\u001b[0;34m)\u001b[0m\u001b[0;34m:\u001b[0m\u001b[0;34m\u001b[0m\u001b[0;34m\u001b[0m\u001b[0m\n\u001b[1;32m    255\u001b[0m             return [func(*args, **kwargs)\n\u001b[0;32m--> 256\u001b[0;31m                     for func, args, kwargs in self.items]\n\u001b[0m\u001b[1;32m    257\u001b[0m \u001b[0;34m\u001b[0m\u001b[0m\n\u001b[1;32m    258\u001b[0m     \u001b[0;32mdef\u001b[0m \u001b[0m__len__\u001b[0m\u001b[0;34m(\u001b[0m\u001b[0mself\u001b[0m\u001b[0;34m)\u001b[0m\u001b[0;34m:\u001b[0m\u001b[0;34m\u001b[0m\u001b[0;34m\u001b[0m\u001b[0m\n",
      "\u001b[0;32m~/anaconda3/lib/python3.7/site-packages/joblib/parallel.py\u001b[0m in \u001b[0;36m<listcomp>\u001b[0;34m(.0)\u001b[0m\n\u001b[1;32m    254\u001b[0m         \u001b[0;32mwith\u001b[0m \u001b[0mparallel_backend\u001b[0m\u001b[0;34m(\u001b[0m\u001b[0mself\u001b[0m\u001b[0;34m.\u001b[0m\u001b[0m_backend\u001b[0m\u001b[0;34m,\u001b[0m \u001b[0mn_jobs\u001b[0m\u001b[0;34m=\u001b[0m\u001b[0mself\u001b[0m\u001b[0;34m.\u001b[0m\u001b[0m_n_jobs\u001b[0m\u001b[0;34m)\u001b[0m\u001b[0;34m:\u001b[0m\u001b[0;34m\u001b[0m\u001b[0;34m\u001b[0m\u001b[0m\n\u001b[1;32m    255\u001b[0m             return [func(*args, **kwargs)\n\u001b[0;32m--> 256\u001b[0;31m                     for func, args, kwargs in self.items]\n\u001b[0m\u001b[1;32m    257\u001b[0m \u001b[0;34m\u001b[0m\u001b[0m\n\u001b[1;32m    258\u001b[0m     \u001b[0;32mdef\u001b[0m \u001b[0m__len__\u001b[0m\u001b[0;34m(\u001b[0m\u001b[0mself\u001b[0m\u001b[0;34m)\u001b[0m\u001b[0;34m:\u001b[0m\u001b[0;34m\u001b[0m\u001b[0;34m\u001b[0m\u001b[0m\n",
      "\u001b[0;32m~/anaconda3/lib/python3.7/site-packages/sklearn/model_selection/_validation.py\u001b[0m in \u001b[0;36m_fit_and_score\u001b[0;34m(estimator, X, y, scorer, train, test, verbose, parameters, fit_params, return_train_score, return_parameters, return_n_test_samples, return_times, return_estimator, error_score)\u001b[0m\n\u001b[1;32m    502\u001b[0m             \u001b[0mcloned_parameters\u001b[0m\u001b[0;34m[\u001b[0m\u001b[0mk\u001b[0m\u001b[0;34m]\u001b[0m \u001b[0;34m=\u001b[0m \u001b[0mclone\u001b[0m\u001b[0;34m(\u001b[0m\u001b[0mv\u001b[0m\u001b[0;34m,\u001b[0m \u001b[0msafe\u001b[0m\u001b[0;34m=\u001b[0m\u001b[0;32mFalse\u001b[0m\u001b[0;34m)\u001b[0m\u001b[0;34m\u001b[0m\u001b[0;34m\u001b[0m\u001b[0m\n\u001b[1;32m    503\u001b[0m \u001b[0;34m\u001b[0m\u001b[0m\n\u001b[0;32m--> 504\u001b[0;31m         \u001b[0mestimator\u001b[0m \u001b[0;34m=\u001b[0m \u001b[0mestimator\u001b[0m\u001b[0;34m.\u001b[0m\u001b[0mset_params\u001b[0m\u001b[0;34m(\u001b[0m\u001b[0;34m**\u001b[0m\u001b[0mcloned_parameters\u001b[0m\u001b[0;34m)\u001b[0m\u001b[0;34m\u001b[0m\u001b[0;34m\u001b[0m\u001b[0m\n\u001b[0m\u001b[1;32m    505\u001b[0m \u001b[0;34m\u001b[0m\u001b[0m\n\u001b[1;32m    506\u001b[0m     \u001b[0mstart_time\u001b[0m \u001b[0;34m=\u001b[0m \u001b[0mtime\u001b[0m\u001b[0;34m.\u001b[0m\u001b[0mtime\u001b[0m\u001b[0;34m(\u001b[0m\u001b[0;34m)\u001b[0m\u001b[0;34m\u001b[0m\u001b[0;34m\u001b[0m\u001b[0m\n",
      "\u001b[0;32m~/anaconda3/lib/python3.7/site-packages/sklearn/pipeline.py\u001b[0m in \u001b[0;36mset_params\u001b[0;34m(self, **kwargs)\u001b[0m\n\u001b[1;32m    161\u001b[0m         \u001b[0mself\u001b[0m\u001b[0;34m\u001b[0m\u001b[0;34m\u001b[0m\u001b[0m\n\u001b[1;32m    162\u001b[0m         \"\"\"\n\u001b[0;32m--> 163\u001b[0;31m         \u001b[0mself\u001b[0m\u001b[0;34m.\u001b[0m\u001b[0m_set_params\u001b[0m\u001b[0;34m(\u001b[0m\u001b[0;34m'steps'\u001b[0m\u001b[0;34m,\u001b[0m \u001b[0;34m**\u001b[0m\u001b[0mkwargs\u001b[0m\u001b[0;34m)\u001b[0m\u001b[0;34m\u001b[0m\u001b[0;34m\u001b[0m\u001b[0m\n\u001b[0m\u001b[1;32m    164\u001b[0m         \u001b[0;32mreturn\u001b[0m \u001b[0mself\u001b[0m\u001b[0;34m\u001b[0m\u001b[0;34m\u001b[0m\u001b[0m\n\u001b[1;32m    165\u001b[0m \u001b[0;34m\u001b[0m\u001b[0m\n",
      "\u001b[0;32m~/anaconda3/lib/python3.7/site-packages/sklearn/utils/metaestimators.py\u001b[0m in \u001b[0;36m_set_params\u001b[0;34m(self, attr, **params)\u001b[0m\n\u001b[1;32m     48\u001b[0m                 \u001b[0mself\u001b[0m\u001b[0;34m.\u001b[0m\u001b[0m_replace_estimator\u001b[0m\u001b[0;34m(\u001b[0m\u001b[0mattr\u001b[0m\u001b[0;34m,\u001b[0m \u001b[0mname\u001b[0m\u001b[0;34m,\u001b[0m \u001b[0mparams\u001b[0m\u001b[0;34m.\u001b[0m\u001b[0mpop\u001b[0m\u001b[0;34m(\u001b[0m\u001b[0mname\u001b[0m\u001b[0;34m)\u001b[0m\u001b[0;34m)\u001b[0m\u001b[0;34m\u001b[0m\u001b[0;34m\u001b[0m\u001b[0m\n\u001b[1;32m     49\u001b[0m         \u001b[0;31m# 3. Step parameters and other initialisation arguments\u001b[0m\u001b[0;34m\u001b[0m\u001b[0;34m\u001b[0m\u001b[0;34m\u001b[0m\u001b[0m\n\u001b[0;32m---> 50\u001b[0;31m         \u001b[0msuper\u001b[0m\u001b[0;34m(\u001b[0m\u001b[0;34m)\u001b[0m\u001b[0;34m.\u001b[0m\u001b[0mset_params\u001b[0m\u001b[0;34m(\u001b[0m\u001b[0;34m**\u001b[0m\u001b[0mparams\u001b[0m\u001b[0;34m)\u001b[0m\u001b[0;34m\u001b[0m\u001b[0;34m\u001b[0m\u001b[0m\n\u001b[0m\u001b[1;32m     51\u001b[0m         \u001b[0;32mreturn\u001b[0m \u001b[0mself\u001b[0m\u001b[0;34m\u001b[0m\u001b[0;34m\u001b[0m\u001b[0m\n\u001b[1;32m     52\u001b[0m \u001b[0;34m\u001b[0m\u001b[0m\n",
      "\u001b[0;32m~/anaconda3/lib/python3.7/site-packages/sklearn/base.py\u001b[0m in \u001b[0;36mset_params\u001b[0;34m(self, **params)\u001b[0m\n\u001b[1;32m    234\u001b[0m                                  \u001b[0;34m'Check the list of available parameters '\u001b[0m\u001b[0;34m\u001b[0m\u001b[0;34m\u001b[0m\u001b[0m\n\u001b[1;32m    235\u001b[0m                                  \u001b[0;34m'with `estimator.get_params().keys()`.'\u001b[0m \u001b[0;34m%\u001b[0m\u001b[0;34m\u001b[0m\u001b[0;34m\u001b[0m\u001b[0m\n\u001b[0;32m--> 236\u001b[0;31m                                  (key, self))\n\u001b[0m\u001b[1;32m    237\u001b[0m \u001b[0;34m\u001b[0m\u001b[0m\n\u001b[1;32m    238\u001b[0m             \u001b[0;32mif\u001b[0m \u001b[0mdelim\u001b[0m\u001b[0;34m:\u001b[0m\u001b[0;34m\u001b[0m\u001b[0;34m\u001b[0m\u001b[0m\n",
      "\u001b[0;31mValueError\u001b[0m: Invalid parameter granientboostingclassifier for estimator Pipeline(memory=None,\n         steps=[('selectfwe',\n                 SelectFwe(alpha=0.05,\n                           score_func=<function f_classif at 0x1a279a7cb0>)),\n                ('gradientboostingclassifier',\n                 GradientBoostingClassifier(ccp_alpha=0.0,\n                                            criterion='friedman_mse', init=None,\n                                            learning_rate=0.1, loss='deviance',\n                                            max_depth=3, max_features=None,\n                                            max_leaf_nodes=None,\n                                            min_impurity_decrease=0.0,\n                                            min_impurity_split=None,\n                                            min_samples_leaf=1,\n                                            min_samples_split=2,\n                                            min_weight_fraction_leaf=0.0,\n                                            n_estimators=100,\n                                            n_iter_no_change=None,\n                                            presort='deprecated',\n                                            random_state=None, subsample=1.0,\n                                            tol=0.0001, validation_fraction=0.1,\n                                            verbose=0, warm_start=False))],\n         verbose=False). Check the list of available parameters with `estimator.get_params().keys()`."
     ]
    }
   ],
   "source": [
    "# GradientBoostingClassifier\n",
    "\n",
    "#model_gbc = GradientBoostingClassifier()\n",
    "#pipe_gbc = make_pipeline(SelectFwe(), model_gbc)\n",
    "\n",
    "#gbc_params = {}\n",
    "#gbc_params['selectfwe__alpha'] = [0.01, 0.05, 0.1]\n",
    "#gbc_params['gradientboostingclassifier__learning_rate'] = [0.1, 0.5, 1.0]\n",
    "#gbc_params['gradientboostingclassifier__n_estimators'] = [100, 200, 500]\n",
    "#gbc_params['gradientboostingclassifier__max_depth'] = [1,3,7]\n",
    "\n",
    "\n",
    "#gbc_gridsearch = GridSearchCV(pipe_gbc, gbc_params, cv=5, verbose=1)\n",
    "#gbc_gridsearch.fit(Xs_train_smote, ys_train_smote)"
   ]
  },
  {
   "cell_type": "markdown",
   "metadata": {},
   "source": [
    "### 3.7 AdaBoostClassifier"
   ]
  },
  {
   "cell_type": "code",
   "execution_count": 76,
   "metadata": {},
   "outputs": [
    {
     "name": "stdout",
     "output_type": "stream",
     "text": [
      "AdaBoost AUC: 0.7903317182392261\n",
      "              precision    recall  f1-score   support\n",
      "\n",
      "           0       0.95      0.93      0.94      8896\n",
      "           1       0.54      0.65      0.59      1129\n",
      "\n",
      "    accuracy                           0.90     10025\n",
      "   macro avg       0.75      0.79      0.77     10025\n",
      "weighted avg       0.91      0.90      0.90     10025\n",
      "\n"
     ]
    }
   ],
   "source": [
    "# AdaBoostClassifier\n",
    "\n",
    "model_ada = AdaBoostClassifier(n_estimators=100)\n",
    "model_ada.fit(Xs_train_smote, ys_train_smote)\n",
    "pred_ada = model_ada.predict(Xs_test)\n",
    "\n",
    "print('AdaBoost AUC:', roc_auc_score(ys_test, pred_ada))\n",
    "print(classification_report(ys_test, pred_ada))"
   ]
  },
  {
   "cell_type": "markdown",
   "metadata": {},
   "source": [
    "### 3.8 Individual model/pipeline performance review"
   ]
  },
  {
   "cell_type": "code",
   "execution_count": 77,
   "metadata": {},
   "outputs": [
    {
     "data": {
      "text/html": [
       "<div>\n",
       "<style scoped>\n",
       "    .dataframe tbody tr th:only-of-type {\n",
       "        vertical-align: middle;\n",
       "    }\n",
       "\n",
       "    .dataframe tbody tr th {\n",
       "        vertical-align: top;\n",
       "    }\n",
       "\n",
       "    .dataframe thead th {\n",
       "        text-align: right;\n",
       "    }\n",
       "</style>\n",
       "<table border=\"1\" class=\"dataframe\">\n",
       "  <thead>\n",
       "    <tr style=\"text-align: right;\">\n",
       "      <th></th>\n",
       "      <th>percision</th>\n",
       "      <th>recall</th>\n",
       "      <th>F1</th>\n",
       "      <th>AUC</th>\n",
       "    </tr>\n",
       "  </thead>\n",
       "  <tbody>\n",
       "    <tr>\n",
       "      <th>model_knn</th>\n",
       "      <td>0.43</td>\n",
       "      <td>0.82</td>\n",
       "      <td>0.57</td>\n",
       "      <td>0.84</td>\n",
       "    </tr>\n",
       "    <tr>\n",
       "      <th>pipe_lr_pca</th>\n",
       "      <td>0.47</td>\n",
       "      <td>0.82</td>\n",
       "      <td>0.60</td>\n",
       "      <td>0.85</td>\n",
       "    </tr>\n",
       "    <tr>\n",
       "      <th>model_svm</th>\n",
       "      <td>0.61</td>\n",
       "      <td>0.59</td>\n",
       "      <td>0.60</td>\n",
       "      <td>0.77</td>\n",
       "    </tr>\n",
       "    <tr>\n",
       "      <th>pipe_rf2</th>\n",
       "      <td>0.51</td>\n",
       "      <td>0.89</td>\n",
       "      <td>0.65</td>\n",
       "      <td>0.89</td>\n",
       "    </tr>\n",
       "    <tr>\n",
       "      <th>model_gbc</th>\n",
       "      <td>0.54</td>\n",
       "      <td>0.70</td>\n",
       "      <td>0.61</td>\n",
       "      <td>0.81</td>\n",
       "    </tr>\n",
       "    <tr>\n",
       "      <th>model_ada</th>\n",
       "      <td>0.54</td>\n",
       "      <td>0.65</td>\n",
       "      <td>0.59</td>\n",
       "      <td>0.79</td>\n",
       "    </tr>\n",
       "  </tbody>\n",
       "</table>\n",
       "</div>"
      ],
      "text/plain": [
       "             percision  recall    F1   AUC\n",
       "model_knn         0.43    0.82  0.57  0.84\n",
       "pipe_lr_pca       0.47    0.82  0.60  0.85\n",
       "model_svm         0.61    0.59  0.60  0.77\n",
       "pipe_rf2          0.51    0.89  0.65  0.89\n",
       "model_gbc         0.54    0.70  0.61  0.81\n",
       "model_ada         0.54    0.65  0.59  0.79"
      ]
     },
     "execution_count": 77,
     "metadata": {},
     "output_type": "execute_result"
    }
   ],
   "source": [
    "# create a dataframe for the chosen individual model/pipeline performance.\n",
    "Individual_models = pd.DataFrame([[0.43, 0.82, 0.57, 0.84], [0.47, 0.82, 0.60, 0.85], [0.61, 0.59, 0.60, 0.77],\n",
    "                        [0.51, 0.89, 0.65, 0.89], [0.54, 0.70, 0.61, 0.81], [0.54, 0.65, 0.59, 0.79]], \n",
    "                       index=['model_knn','pipe_lr_pca','model_svm','pipe_rf2','model_gbc','model_ada'],\n",
    "                      columns=['percision','recall','F1','AUC'])\n",
    "Individual_models"
   ]
  },
  {
   "cell_type": "markdown",
   "metadata": {},
   "source": [
    "### 3.9 Voting models"
   ]
  },
  {
   "cell_type": "code",
   "execution_count": 78,
   "metadata": {},
   "outputs": [],
   "source": [
    "from sklearn.ensemble import VotingClassifier"
   ]
  },
  {
   "cell_type": "markdown",
   "metadata": {},
   "source": [
    "#### 3.9.1 Hard voting"
   ]
  },
  {
   "cell_type": "code",
   "execution_count": 98,
   "metadata": {},
   "outputs": [
    {
     "name": "stdout",
     "output_type": "stream",
     "text": [
      "Hard voting AUC: 0.8771193629684384\n",
      "              precision    recall  f1-score   support\n",
      "\n",
      "           0       0.98      0.88      0.93      8896\n",
      "           1       0.49      0.87      0.63      1129\n",
      "\n",
      "    accuracy                           0.88     10025\n",
      "   macro avg       0.74      0.88      0.78     10025\n",
      "weighted avg       0.93      0.88      0.90     10025\n",
      "\n"
     ]
    }
   ],
   "source": [
    "Estimators = [('knn', model_knn), \n",
    "              ('lr', pipe_lr_pca),\n",
    "#              ('svm', model_svm),\n",
    "              ('rf', pipe_rf2)]\n",
    "#              ('gbc', model_gbc), \n",
    "#              ('ada', model_ada)]\n",
    "\n",
    "model_vote_hard = VotingClassifier(estimators= Estimators, voting='hard')\n",
    "model_vote_hard.fit(Xs_train_smote, ys_train_smote)\n",
    "pred_hard_vote = model_vote_hard.predict(Xs_test)\n",
    "\n",
    "print('Hard voting AUC:', roc_auc_score(ys_test, pred_hard_vote))\n",
    "print(classification_report(ys_test, pred_hard_vote))"
   ]
  },
  {
   "cell_type": "markdown",
   "metadata": {},
   "source": [
    "#### 3.9.2 Soft voting"
   ]
  },
  {
   "cell_type": "code",
   "execution_count": 102,
   "metadata": {},
   "outputs": [
    {
     "name": "stdout",
     "output_type": "stream",
     "text": [
      "Soft voting AUC: 0.8850686667229547\n",
      "              precision    recall  f1-score   support\n",
      "\n",
      "           0       0.98      0.89      0.93      8896\n",
      "           1       0.50      0.88      0.64      1129\n",
      "\n",
      "    accuracy                           0.89     10025\n",
      "   macro avg       0.74      0.89      0.79     10025\n",
      "weighted avg       0.93      0.89      0.90     10025\n",
      "\n"
     ]
    }
   ],
   "source": [
    "Estimators = [('knn', model_knn), \n",
    "              ('lr', pipe_lr_pca), \n",
    "#              ('svm', model_svm),\n",
    "              ('rf', pipe_rf2)]\n",
    "#              ('gbc', model_gbc), \n",
    "#              ('ada', model_ada)]\n",
    "model_vote_soft = VotingClassifier(estimators= Estimators, voting='soft', weights=[1,1,3])\n",
    "model_vote_soft.fit(Xs_train_smote, ys_train_smote)\n",
    "pred_soft_vote = model_vote_soft.predict(Xs_test)\n",
    "\n",
    "print('Soft voting AUC:', roc_auc_score(ys_test, pred_soft_vote))\n",
    "print(classification_report(ys_test, pred_soft_vote))"
   ]
  },
  {
   "cell_type": "code",
   "execution_count": 111,
   "metadata": {},
   "outputs": [],
   "source": [
    "# Voting models work pretty well. But their performance didn't beat the RandomForest pipe from TPOT"
   ]
  },
  {
   "cell_type": "markdown",
   "metadata": {},
   "source": [
    "## Adjust the threshold for predicting subscription"
   ]
  },
  {
   "cell_type": "markdown",
   "metadata": {},
   "source": [
    "### 1. Confusion matrix based on the 0.5 predicted probability threshold"
   ]
  },
  {
   "cell_type": "code",
   "execution_count": 112,
   "metadata": {},
   "outputs": [],
   "source": [
    "# predict test class from RandomForest pipeline:\n",
    "y_pred_rf2 = pipe_rf2.predict(Xs_test)\n",
    "\n",
    "# predicted test probability:\n",
    "y_pp_rf2 = pipe_rf2.predict_proba(Xs_test)"
   ]
  },
  {
   "cell_type": "code",
   "execution_count": 114,
   "metadata": {},
   "outputs": [
    {
     "data": {
      "text/html": [
       "<div>\n",
       "<style scoped>\n",
       "    .dataframe tbody tr th:only-of-type {\n",
       "        vertical-align: middle;\n",
       "    }\n",
       "\n",
       "    .dataframe tbody tr th {\n",
       "        vertical-align: top;\n",
       "    }\n",
       "\n",
       "    .dataframe thead th {\n",
       "        text-align: right;\n",
       "    }\n",
       "</style>\n",
       "<table border=\"1\" class=\"dataframe\">\n",
       "  <thead>\n",
       "    <tr style=\"text-align: right;\">\n",
       "      <th></th>\n",
       "      <th>predicted_subscribe</th>\n",
       "      <th>predicted_not_subscribe</th>\n",
       "    </tr>\n",
       "  </thead>\n",
       "  <tbody>\n",
       "    <tr>\n",
       "      <th>will_subscribe</th>\n",
       "      <td>1008</td>\n",
       "      <td>121</td>\n",
       "    </tr>\n",
       "    <tr>\n",
       "      <th>will_not_subscribe</th>\n",
       "      <td>979</td>\n",
       "      <td>7917</td>\n",
       "    </tr>\n",
       "  </tbody>\n",
       "</table>\n",
       "</div>"
      ],
      "text/plain": [
       "                    predicted_subscribe  predicted_not_subscribe\n",
       "will_subscribe                     1008                      121\n",
       "will_not_subscribe                  979                     7917"
      ]
     },
     "execution_count": 114,
     "metadata": {},
     "output_type": "execute_result"
    }
   ],
   "source": [
    "# Create the confusion matrix\n",
    "from sklearn.metrics import confusion_matrix\n",
    "conmat = np.array(confusion_matrix(ys_test, y_pred_rf2, labels=[1,0]))\n",
    "\n",
    "confusion = pd.DataFrame(conmat, index=['will_subscribe', 'will_not_subscribe'],\n",
    "                         columns=['predicted_subscribe','predicted_not_subscribe'])\n",
    "confusion"
   ]
  },
  {
   "cell_type": "markdown",
   "metadata": {},
   "source": [
    "### 2. Lower the threshold for predicting subscription\n",
    "If our goal was to have 0 false negatives: in other words, in no case do we want to predict the person will not subscribe the product when in fact they will (we do not want to miss the clients who will subscribe the product). We can adjust the predicted probability threshold to achieve this goal. However, this will be at the expense of a higher false positive rate."
   ]
  },
  {
   "cell_type": "code",
   "execution_count": 119,
   "metadata": {},
   "outputs": [],
   "source": [
    "# Write a function that input the classifier and the threshold, and output the classification confusion matrix.\n",
    "def adjust_threshold(classifier, threshold):\n",
    "    # Get the predicted probability vector and explicitly name the columns:\n",
    "    Y_pp = pd.DataFrame(classifier.predict_proba(Xs_test), columns=['class_0_pp','class_1_pp'])\n",
    "    \n",
    "    # Lower the threshold for predicting class 1.\n",
    "    # This will reduce the false negative rate to 0, but at the expense of a higher false positive rate.\n",
    "    Y_pp['pred_class_threshold'] = [1 if x >= threshold else 0 for x in Y_pp.class_1_pp.values]\n",
    "    \n",
    "    # Create the confusion matrix base on the new threshold\n",
    "    conmat = np.array(confusion_matrix(ys_test, Y_pp.pred_class_threshold.values, labels=[1,0]))\n",
    "    confusion = pd.DataFrame(conmat, index=['will_subscribe', 'will_not_subscribe'],\n",
    "                         columns=['predicted_subscribe','predicted_not_subscribe'])\n",
    "    return confusion   "
   ]
  },
  {
   "cell_type": "code",
   "execution_count": 121,
   "metadata": {},
   "outputs": [
    {
     "data": {
      "text/html": [
       "<div>\n",
       "<style scoped>\n",
       "    .dataframe tbody tr th:only-of-type {\n",
       "        vertical-align: middle;\n",
       "    }\n",
       "\n",
       "    .dataframe tbody tr th {\n",
       "        vertical-align: top;\n",
       "    }\n",
       "\n",
       "    .dataframe thead th {\n",
       "        text-align: right;\n",
       "    }\n",
       "</style>\n",
       "<table border=\"1\" class=\"dataframe\">\n",
       "  <thead>\n",
       "    <tr style=\"text-align: right;\">\n",
       "      <th></th>\n",
       "      <th>predicted_subscribe</th>\n",
       "      <th>predicted_not_subscribe</th>\n",
       "    </tr>\n",
       "  </thead>\n",
       "  <tbody>\n",
       "    <tr>\n",
       "      <th>will_subscribe</th>\n",
       "      <td>1072</td>\n",
       "      <td>57</td>\n",
       "    </tr>\n",
       "    <tr>\n",
       "      <th>will_not_subscribe</th>\n",
       "      <td>1426</td>\n",
       "      <td>7470</td>\n",
       "    </tr>\n",
       "  </tbody>\n",
       "</table>\n",
       "</div>"
      ],
      "text/plain": [
       "                    predicted_subscribe  predicted_not_subscribe\n",
       "will_subscribe                     1072                       57\n",
       "will_not_subscribe                 1426                     7470"
      ]
     },
     "execution_count": 121,
     "metadata": {},
     "output_type": "execute_result"
    }
   ],
   "source": [
    "# Set the threshold as 0.3\n",
    "adjust_threshold(pipe_rf2, 0.3)"
   ]
  },
  {
   "cell_type": "code",
   "execution_count": 120,
   "metadata": {},
   "outputs": [
    {
     "data": {
      "text/html": [
       "<div>\n",
       "<style scoped>\n",
       "    .dataframe tbody tr th:only-of-type {\n",
       "        vertical-align: middle;\n",
       "    }\n",
       "\n",
       "    .dataframe tbody tr th {\n",
       "        vertical-align: top;\n",
       "    }\n",
       "\n",
       "    .dataframe thead th {\n",
       "        text-align: right;\n",
       "    }\n",
       "</style>\n",
       "<table border=\"1\" class=\"dataframe\">\n",
       "  <thead>\n",
       "    <tr style=\"text-align: right;\">\n",
       "      <th></th>\n",
       "      <th>predicted_subscribe</th>\n",
       "      <th>predicted_not_subscribe</th>\n",
       "    </tr>\n",
       "  </thead>\n",
       "  <tbody>\n",
       "    <tr>\n",
       "      <th>will_subscribe</th>\n",
       "      <td>1111</td>\n",
       "      <td>18</td>\n",
       "    </tr>\n",
       "    <tr>\n",
       "      <th>will_not_subscribe</th>\n",
       "      <td>2194</td>\n",
       "      <td>6702</td>\n",
       "    </tr>\n",
       "  </tbody>\n",
       "</table>\n",
       "</div>"
      ],
      "text/plain": [
       "                    predicted_subscribe  predicted_not_subscribe\n",
       "will_subscribe                     1111                       18\n",
       "will_not_subscribe                 2194                     6702"
      ]
     },
     "execution_count": 120,
     "metadata": {},
     "output_type": "execute_result"
    }
   ],
   "source": [
    "# If the threshold is 0.1\n",
    "adjust_threshold(pipe_rf2, 0.1)"
   ]
  },
  {
   "cell_type": "markdown",
   "metadata": {},
   "source": [
    "## Visualize the classification outcome"
   ]
  },
  {
   "cell_type": "markdown",
   "metadata": {},
   "source": [
    "### The Receiver operating characteristic (ROC) curve \n",
    "The ROC curve is a popular visual of the performance of a classifier. It has a few attractive properties:\n",
    "\n",
    "- It compares the true positive rate to the false positive rate as the threshold for predicting 1 changes.\n",
    "- When the area under the curve is 0.50, this is equivalent to the baseline (chance) prediction.\n",
    "- When the area under the curve is 1.00, this is equivalent to perfect prediction.\n",
    "- The area under the ROC curve is inherently related to the accuracy."
   ]
  },
  {
   "cell_type": "code",
   "execution_count": 123,
   "metadata": {},
   "outputs": [],
   "source": [
    "import matplotlib.pyplot as plt\n",
    "%config InlineBackend.figure_format = 'retina'\n",
    "%matplotlib inline\n",
    "\n",
    "plt.style.use('fivethirtyeight')"
   ]
  },
  {
   "cell_type": "code",
   "execution_count": 126,
   "metadata": {},
   "outputs": [
    {
     "data": {
      "image/png": "[encoded data removed]",
      "text/plain": [
       "<Figure size 576x576 with 1 Axes>"
      ]
     },
     "metadata": {
      "image/png": {
       "height": 538,
       "width": 579
      }
     },
     "output_type": "display_data"
    }
   ],
   "source": [
    "from sklearn.metrics import roc_curve, auc\n",
    "\n",
    "# Plot the ROC base on 0.5 predicted probability threshold\n",
    "adjust_threshold(pipe_rf2, 0.5)\n",
    "\n",
    "# For class 1, find the area under the curve\n",
    "fpr, tpr, _ = roc_curve(ys_test, Y_pp.class_1_pp)\n",
    "roc_auc = auc(fpr, tpr)\n",
    "\n",
    "# Plot of a ROC curve for class 1 (has_cancer)\n",
    "plt.figure(figsize=[8,8])\n",
    "plt.plot(fpr, tpr, label='ROC curve (area = %0.2f)' % roc_auc, linewidth=4)\n",
    "plt.plot([0, 1], [0, 1], 'k--', linewidth=4)\n",
    "plt.xlim([-0.05, 1.0])\n",
    "plt.ylim([-0.05, 1.05])\n",
    "plt.xlabel('False Positive Rate', fontsize=18)\n",
    "plt.ylabel('True Positive Rate', fontsize=18)\n",
    "plt.title('Receiver operating characteristic for subscription detection', fontsize=18)\n",
    "plt.legend(loc=\"lower right\")\n",
    "plt.show()"
   ]
  },
  {
   "cell_type": "markdown",
   "metadata": {},
   "source": [
    "## Feature Importancy Analysis"
   ]
  },
  {
   "cell_type": "code",
   "execution_count": 104,
   "metadata": {},
   "outputs": [
    {
     "data": {
      "text/html": [
       "<!-- http://127.0.0.1:7992/112365470352/ -->\n",
       "<iframe src=\"http://127.0.0.1:7992/112365470352/\" width=100% height=800 frameBorder=\"0\"></iframe>"
      ]
     },
     "metadata": {},
     "output_type": "display_data"
    }
   ],
   "source": [
    "from interpret.glassbox import ExplainableBoostingClassifier\n",
    "\n",
    "ebm = ExplainableBoostingClassifier()\n",
    "ebm.fit(X_train_smote, y_train_smote)\n",
    "\n",
    "from interpret import show\n",
    "\n",
    "ebm_global = ebm.explain_global()\n",
    "show(ebm_global)\n",
    "\n",
    "# you will need to re-run the code to see the output."
   ]
  }
 ],
 "metadata": {
  "kernelspec": {
   "display_name": "Python 3",
   "language": "python",
   "name": "python3"
  },
  "language_info": {
   "codemirror_mode": {
    "name": "ipython",
    "version": 3
   },
   "file_extension": ".py",
   "mimetype": "text/x-python",
   "name": "python",
   "nbconvert_exporter": "python",
   "pygments_lexer": "ipython3",
   "version": "3.7.6"
  }
 },
 "nbformat": 4,
 "nbformat_minor": 4
}
